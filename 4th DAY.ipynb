{
 "cells": [
  {
   "cell_type": "code",
   "execution_count": 14,
   "id": "fb8ae456-4b9c-4d5b-a4e4-8d6f5379842e",
   "metadata": {
    "scrolled": true
   },
   "outputs": [
    {
     "name": "stdin",
     "output_type": "stream",
     "text": [
      "enter the number of players  1\n",
      "enter the sentances  hi this is ganesh\n"
     ]
    },
    {
     "name": "stdout",
     "output_type": "stream",
     "text": [
      " \n",
      "h\n",
      "i\n",
      " \n",
      "t\n",
      "h\n",
      "i\n",
      "s\n",
      " \n",
      "i\n",
      "s\n",
      " \n",
      "g\n",
      "a\n",
      "n\n",
      "e\n",
      "s\n",
      "h\n",
      "player0 has 18 vowels in his/her sentancecs\n"
     ]
    }
   ],
   "source": [
    "n=int(input(\"enter the number of players \"))\n",
    "count=0\n",
    "def c()\n",
    "for i in range(n):\n",
    "    x=input(\"enter the sentances\").lower()\n",
    "    for j in x:\n",
    "        if j=='a' or 'e'or 'i' or 'o' or 'u' :\n",
    "            print(j)\n",
    "            count+=1\n",
    "    print(f\"player{i} has {count} vowels in his/her sentancecs\")"
   ]
  },
  {
   "cell_type": "code",
   "execution_count": 12,
   "id": "274c2dc6-6b82-4bf1-b87d-01207f66c482",
   "metadata": {},
   "outputs": [
    {
     "name": "stdin",
     "output_type": "stream",
     "text": [
      " hi this is ganesh\n"
     ]
    },
    {
     "name": "stdout",
     "output_type": "stream",
     "text": [
      "h\n",
      "i\n",
      " \n",
      "t\n",
      "h\n",
      "i\n",
      "s\n",
      " \n",
      "i\n",
      "s\n",
      " \n",
      "g\n",
      "a\n",
      "n\n",
      "e\n",
      "s\n",
      "h\n"
     ]
    }
   ],
   "source": [
    "i=input()\n",
    "for j in i:\n",
    "    print(j)"
   ]
  },
  {
   "cell_type": "code",
   "execution_count": null,
   "id": "47602717-e0d4-405e-92c8-ef479775f5e9",
   "metadata": {},
   "outputs": [],
   "source": []
  },
  {
   "cell_type": "code",
   "execution_count": 1,
   "id": "ac317bd0-975b-4023-895a-df79c8aa9270",
   "metadata": {},
   "outputs": [
    {
     "data": {
      "text/plain": [
       "['__add__',\n",
       " '__class__',\n",
       " '__contains__',\n",
       " '__delattr__',\n",
       " '__dir__',\n",
       " '__doc__',\n",
       " '__eq__',\n",
       " '__format__',\n",
       " '__ge__',\n",
       " '__getattribute__',\n",
       " '__getitem__',\n",
       " '__getnewargs__',\n",
       " '__getstate__',\n",
       " '__gt__',\n",
       " '__hash__',\n",
       " '__init__',\n",
       " '__init_subclass__',\n",
       " '__iter__',\n",
       " '__le__',\n",
       " '__len__',\n",
       " '__lt__',\n",
       " '__mod__',\n",
       " '__mul__',\n",
       " '__ne__',\n",
       " '__new__',\n",
       " '__reduce__',\n",
       " '__reduce_ex__',\n",
       " '__repr__',\n",
       " '__rmod__',\n",
       " '__rmul__',\n",
       " '__setattr__',\n",
       " '__sizeof__',\n",
       " '__str__',\n",
       " '__subclasshook__',\n",
       " 'capitalize',\n",
       " 'casefold',\n",
       " 'center',\n",
       " 'count',\n",
       " 'encode',\n",
       " 'endswith',\n",
       " 'expandtabs',\n",
       " 'find',\n",
       " 'format',\n",
       " 'format_map',\n",
       " 'index',\n",
       " 'isalnum',\n",
       " 'isalpha',\n",
       " 'isascii',\n",
       " 'isdecimal',\n",
       " 'isdigit',\n",
       " 'isidentifier',\n",
       " 'islower',\n",
       " 'isnumeric',\n",
       " 'isprintable',\n",
       " 'isspace',\n",
       " 'istitle',\n",
       " 'isupper',\n",
       " 'join',\n",
       " 'ljust',\n",
       " 'lower',\n",
       " 'lstrip',\n",
       " 'maketrans',\n",
       " 'partition',\n",
       " 'removeprefix',\n",
       " 'removesuffix',\n",
       " 'replace',\n",
       " 'rfind',\n",
       " 'rindex',\n",
       " 'rjust',\n",
       " 'rpartition',\n",
       " 'rsplit',\n",
       " 'rstrip',\n",
       " 'split',\n",
       " 'splitlines',\n",
       " 'startswith',\n",
       " 'strip',\n",
       " 'swapcase',\n",
       " 'title',\n",
       " 'translate',\n",
       " 'upper',\n",
       " 'zfill']"
      ]
     },
     "execution_count": 1,
     "metadata": {},
     "output_type": "execute_result"
    }
   ],
   "source": [
    "dir(str)"
   ]
  },
  {
   "cell_type": "code",
   "execution_count": 2,
   "id": "98f86ceb-1a5f-42d9-a3d1-83f303ecae8d",
   "metadata": {},
   "outputs": [
    {
     "name": "stdout",
     "output_type": "stream",
     "text": [
      "Help on method_descriptor:\n",
      "\n",
      "rfind(...)\n",
      "    S.rfind(sub[, start[, end]]) -> int\n",
      "\n",
      "    Return the highest index in S where substring sub is found,\n",
      "    such that sub is contained within S[start:end].  Optional\n",
      "    arguments start and end are interpreted as in slice notation.\n",
      "\n",
      "    Return -1 on failure.\n",
      "\n"
     ]
    }
   ],
   "source": [
    "help(str.rfind)"
   ]
  },
  {
   "cell_type": "code",
   "execution_count": 6,
   "id": "4384ac61-c747-4d2d-a78d-5b34835347e9",
   "metadata": {},
   "outputs": [
    {
     "ename": "AttributeError",
     "evalue": "type object 'str' has no attribute 'contains'",
     "output_type": "error",
     "traceback": [
      "\u001b[1;31m---------------------------------------------------------------------------\u001b[0m",
      "\u001b[1;31mAttributeError\u001b[0m                            Traceback (most recent call last)",
      "Cell \u001b[1;32mIn[6], line 1\u001b[0m\n\u001b[1;32m----> 1\u001b[0m help(\u001b[38;5;28;43mstr\u001b[39;49m\u001b[38;5;241;43m.\u001b[39;49m\u001b[43mcontains\u001b[49m())\n",
      "\u001b[1;31mAttributeError\u001b[0m: type object 'str' has no attribute 'contains'"
     ]
    }
   ],
   "source": [
    "help(str.contains())"
   ]
  },
  {
   "cell_type": "code",
   "execution_count": 17,
   "id": "de5d9112-0dc5-4a5e-b271-b0a71fd38c10",
   "metadata": {},
   "outputs": [
    {
     "name": "stdin",
     "output_type": "stream",
     "text": [
      "enter number of players 2\n",
      " hi this is ganesh\n",
      " hi this is vijay\n"
     ]
    },
    {
     "name": "stdout",
     "output_type": "stream",
     "text": [
      "[{'a': 1, 'e': 1, 'i': 3, 'o': 0, 'u': 0, 'max': 3}, {'a': 1, 'e': 0, 'i': 4, 'o': 0, 'u': 0, 'max': 4}]\n"
     ]
    }
   ],
   "source": [
    "K=[]\n",
    "def c(s):\n",
    "    dic={'a':0,'e':0,'i':0,'o':0,'u':0,'max':0} \n",
    "    l=[i for i in s]\n",
    "    dic['a']=l.count('a')\n",
    "    dic['e']=l.count('e')\n",
    "    dic['i']=l.count('i')\n",
    "    dic['o']=l.count('o')\n",
    "    dic['u']=l.count('u')\n",
    "    dic['max']=max(dic.values())\n",
    "    K.append(dic)\n",
    " \n",
    "n=int(input(\"enter number of players\"))\n",
    "for i in range(n):\n",
    "    s=input().lower()\n",
    "    c(s)\n",
    "print(K)"
   ]
  },
  {
   "cell_type": "code",
   "execution_count": 19,
   "id": "6dd3e864-4b2f-4170-b95d-2f144a2830ca",
   "metadata": {},
   "outputs": [
    {
     "name": "stdin",
     "output_type": "stream",
     "text": [
      " hi this is ganesh\n"
     ]
    },
    {
     "name": "stdout",
     "output_type": "stream",
     "text": [
      "['h', 'i', ' ', 't', 'h', 'i', 's', ' ', 'i', 's', ' ', 'g', 'a', 'n', 'e', 's', 'h']\n"
     ]
    }
   ],
   "source": [
    "s=input()\n",
    "l=[i for i in s]\n",
    "print(l)"
   ]
  },
  {
   "cell_type": "code",
   "execution_count": 9,
   "id": "3eb84259-d91c-4ecb-859b-0ffcaf9eae6a",
   "metadata": {},
   "outputs": [
    {
     "name": "stdin",
     "output_type": "stream",
     "text": [
      "enter the number of levels's 2\n",
      "enter the gate 1number  1,2,3,2,1,3,2 \n",
      "enter the gate 2number 2,1,2,4,3,2,1,2\n"
     ]
    }
   ],
   "source": [
    "def sol1(i):\n",
    "    for j in i:\n",
    "        s1=sum(l[:j])\n",
    "        s2=sum(l[j:])\n",
    "        if s1==s2:\n",
    "            sol.append(j)\n",
    "            break\n",
    "\n",
    "\n",
    "L=[]\n",
    "sol=[]\n",
    "n=int(input(\"enter the number of levels's\"))\n",
    "for i in range(n):\n",
    "    l=[int(i) for i in input(f\"enter the gate {i+1}number\").split(\",\")]\n",
    "    L.append(l)\n",
    "for i in range(len(L)):\n",
    "    sol1(L[i])\n",
    "    "
   ]
  },
  {
   "cell_type": "code",
   "execution_count": 10,
   "id": "55c61c7b-9f5e-454d-a47a-dad04cd55f93",
   "metadata": {},
   "outputs": [
    {
     "name": "stdout",
     "output_type": "stream",
     "text": [
      "[]\n"
     ]
    }
   ],
   "source": [
    "print(sol)"
   ]
  },
  {
   "cell_type": "code",
   "execution_count": null,
   "id": "c9d06170-f8c2-443f-aa2d-ad2014c5e7c2",
   "metadata": {},
   "outputs": [],
   "source": [
    "'''game={}\n",
    "def do(name,string):\n",
    "    a,e,i,o,u,A,E,I,O,U=0,0,0,0,0,0,0,0,0,0\n",
    "    for i in range(o,len(string)):\n",
    "        if i=='a':\n",
    "            a+=1\n",
    "        elif string[i]=='e':\n",
    "            e+=1\n",
    "        elif string[i]=='i':\n",
    "            i+=1\n",
    "        elif string[i]=='o':\n",
    "            o+=1\n",
    "        elif string[i]=='u':\n",
    "            u+=1\n",
    "        elif string[i]=='A':\n",
    "            A+=1\n",
    "        elif string[i]=='E':\n",
    "            E+=1\n",
    "        elif string[i]=='I':\n",
    "            I+=1\n",
    "        elif string[i]=='O':\n",
    "            O+=1\n",
    "        elif string[i]=='U':\n",
    "            U+=1\n",
    "        else:\n",
    "            print('invalid')\n",
    "        game[i]\n",
    "    \n",
    "    players=input('enter the number of players')\n",
    "    print('number of players are:',players)\n",
    "    for i in range(0,len(players)):\n",
    "        name=input('Name:')\n",
    "        sentence=input('sentence:')\n",
    "        game[name]=sentence\n",
    "        do(game[name]) \n",
    "        '''\n",
    "        \n",
    "        \n",
    "        \n",
    "        \n",
    "        \n",
    "        \n",
    "        \n",
    "def count_vowel(S):\n",
    "    dic={'A':0,'E':0,'I':0,'O':0,'U':0}\n",
    "    for i in S:\n",
    "        if i == 'a' or i == 'A':\n",
    "            dic['A']+=1\n",
    "        elif i == 'e' or i=='E':\n",
    "            dic['E']+=1\n",
    "        elif i == 'i' or i=='I':\n",
    "            dic['I']+=1\n",
    "        elif i == 'o' or i=='O':\n",
    "            dic['O']+=1\n",
    "        elif i == 'u' or i=='U':\n",
    "            dic['U']+=1\n",
    "    x=max(dic.values())\n",
    "    result=[]\n",
    "    for i,j in dic.items():\n",
    "        if j==x:\n",
    "         result.append(i)\n",
    "    return result\n",
    "\n",
    "i_p = [\n",
    "       ['Bhagya','my name is bhagya'],\n",
    "       ['Indra','my name is indra'],\n",
    "       ['Isaaq','my name is isaaq'],\n",
    "       ['Ganesh','my name is ganesh'],\n",
    "       ['Rithvik','my name is rithvik']\n",
    "       ]\n",
    "o_p = {}\n",
    "for i in i_p:\n",
    "    o_p[i[0]] = count_vowel(i_p[i[1]])\n",
    "print(o_p)"
   ]
  },
  {
   "cell_type": "code",
   "execution_count": null,
   "id": "c406dcbb-2069-4510-8cb1-0fb691f4b93d",
   "metadata": {},
   "outputs": [],
   "source": [
    "l=[1,2,3,4,5,5,6,7]"
   ]
  },
  {
   "cell_type": "code",
   "execution_count": 22,
   "id": "7e90cca8-733e-4296-8da1-ed355c0507c0",
   "metadata": {},
   "outputs": [
    {
     "name": "stdin",
     "output_type": "stream",
     "text": [
      " 2,4,3,5,6,3,4,6,7,1,2,5\n"
     ]
    },
    {
     "name": "stdout",
     "output_type": "stream",
     "text": [
      "17\n",
      "4 6 7\n"
     ]
    }
   ],
   "source": [
    "l=[int(i) for i in input().split(\",\")]\n",
    "sum=0\n",
    "for i in l[:-2]:\n",
    "    s=l[i]+l[i+1]+l[i+2]\n",
    "    if sum<s:\n",
    "        sum=s\n",
    "        k1,k2,k3=l[i],l[i+1],l[i+2]\n",
    "print(sum)\n",
    "print(k1,k2,k3)\n"
   ]
  },
  {
   "cell_type": "markdown",
   "id": "324067ab-aef0-4a56-a611-68bfcd02ba37",
   "metadata": {},
   "source": [
    "### playing cards"
   ]
  },
  {
   "cell_type": "code",
   "execution_count": 22,
   "id": "292c2dce-c272-4fb1-955e-c762b5dffe5b",
   "metadata": {},
   "outputs": [
    {
     "name": "stdin",
     "output_type": "stream",
     "text": [
      " 3 4 2 3 4 7\n",
      "enter the number between 0 to 9: 2\n"
     ]
    },
    {
     "name": "stdout",
     "output_type": "stream",
     "text": [
      "no other pair the card in the deck of card\n"
     ]
    }
   ],
   "source": [
    "l=[int(i) for i in input().split()]\n",
    "event=int(input(\"enter the number between 0 to 9:\"))\n",
    "count=1\n",
    "if l.count(event)>1:`    for i in l[l.index(event)+1:]:\n",
    "        if l[i]==event:\n",
    "            print('you need to pick ',count+1,'cards')\n",
    "        count+=1\n",
    "else:\n",
    "    print(\"no other pair the card in the deck of card\")"
   ]
  },
  {
   "cell_type": "code",
   "execution_count": 13,
   "id": "8abb01b9-f325-42f9-a2f1-9fe8ecf42d50",
   "metadata": {},
   "outputs": [
    {
     "name": "stdout",
     "output_type": "stream",
     "text": [
      "[1, 2, 3, 4, 54, 6, 6, 67]\n"
     ]
    }
   ],
   "source": [
    "print(l)"
   ]
  },
  {
   "cell_type": "code",
   "execution_count": null,
   "id": "99486506-aead-4cee-a330-45c409f54fc5",
   "metadata": {},
   "outputs": [],
   "source": []
  }
 ],
 "metadata": {
  "kernelspec": {
   "display_name": "Python 3 (ipykernel)",
   "language": "python",
   "name": "python3"
  },
  "language_info": {
   "codemirror_mode": {
    "name": "ipython",
    "version": 3
   },
   "file_extension": ".py",
   "mimetype": "text/x-python",
   "name": "python",
   "nbconvert_exporter": "python",
   "pygments_lexer": "ipython3",
   "version": "3.12.1"
  }
 },
 "nbformat": 4,
 "nbformat_minor": 5
}
