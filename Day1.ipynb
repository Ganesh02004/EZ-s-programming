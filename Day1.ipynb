{
 "cells": [
  {
   "cell_type": "markdown",
   "id": "d127bde3-f716-4a22-bc23-aa4e39319183",
   "metadata": {},
   "source": [
    "### <font color='red'> bit wise operation"
   ]
  },
  {
   "cell_type": "code",
   "execution_count": 9,
   "id": "057e28f0-91c8-452c-a57a-3a3b6e70a1e8",
   "metadata": {},
   "outputs": [
    {
     "name": "stdout",
     "output_type": "stream",
     "text": [
      "0\n",
      "30\n",
      "30\n",
      "0b1010 0b11\n",
      "1\n",
      "80\n",
      "-11 -4\n"
     ]
    }
   ],
   "source": [
    "a=10\n",
    "b=20\n",
    "print(a&b)\n",
    "print(a|b)\n",
    "print(a^b)\n",
    "a=10\n",
    "b=3\n",
    "print(bin(a),bin(b))\n",
    "print(a>>b)#farmula for right shift a//2^b\n",
    "print(a<<b)#farmula for left shift a*2^b\n",
    "print(~a,~b)"
   ]
  },
  {
   "cell_type": "code",
   "execution_count": 12,
   "id": "35b81819-e406-4aad-bc4f-20f3a86205f1",
   "metadata": {},
   "outputs": [
    {
     "data": {
      "text/plain": [
       "3"
      ]
     },
     "execution_count": 12,
     "metadata": {},
     "output_type": "execute_result"
    }
   ],
   "source": [
    "a//b #brings only integer value"
   ]
  },
  {
   "cell_type": "code",
   "execution_count": 11,
   "id": "56e92eb4-e674-43af-819f-99d563a4f373",
   "metadata": {},
   "outputs": [
    {
     "data": {
      "text/plain": [
       "3.3333333333333335"
      ]
     },
     "execution_count": 11,
     "metadata": {},
     "output_type": "execute_result"
    }
   ],
   "source": [
    "a/b #brings only float value"
   ]
  },
  {
   "cell_type": "code",
   "execution_count": 13,
   "id": "3eb733c4-e313-43fe-9d68-fcdb05b7bab3",
   "metadata": {},
   "outputs": [
    {
     "data": {
      "text/plain": [
       "18"
      ]
     },
     "execution_count": 13,
     "metadata": {},
     "output_type": "execute_result"
    }
   ],
   "source": [
    "55//3"
   ]
  },
  {
   "cell_type": "code",
   "execution_count": 15,
   "id": "d4437d24-3815-4d44-9b32-4ef6bc8dffcf",
   "metadata": {},
   "outputs": [
    {
     "data": {
      "text/plain": [
       "4"
      ]
     },
     "execution_count": 15,
     "metadata": {},
     "output_type": "execute_result"
    }
   ],
   "source": [
    "9%5"
   ]
  },
  {
   "cell_type": "code",
   "execution_count": 16,
   "id": "77911284-6d1f-424b-8789-84ace5f3d2f2",
   "metadata": {},
   "outputs": [
    {
     "ename": "SyntaxError",
     "evalue": "invalid syntax (2880406945.py, line 3)",
     "output_type": "error",
     "traceback": [
      "\u001b[1;36m  Cell \u001b[1;32mIn[16], line 3\u001b[1;36m\u001b[0m\n\u001b[1;33m    print((a>b)?\"true\":\"false\")\u001b[0m\n\u001b[1;37m               ^\u001b[0m\n\u001b[1;31mSyntaxError\u001b[0m\u001b[1;31m:\u001b[0m invalid syntax\n"
     ]
    }
   ],
   "source": [
    "a=10\n",
    "b=20\n",
    "print((a>b)?\"true\":\"false\")"
   ]
  },
  {
   "cell_type": "markdown",
   "id": "800bf6ef-ad7a-4f83-b7fe-9af3a21d93da",
   "metadata": {},
   "source": [
    "##  Identity operator (is)"
   ]
  },
  {
   "cell_type": "code",
   "execution_count": 17,
   "id": "43afd4a5-83de-4afa-b608-8fea795b3791",
   "metadata": {},
   "outputs": [
    {
     "name": "stdout",
     "output_type": "stream",
     "text": [
      "false\n"
     ]
    }
   ],
   "source": [
    "#ternary operator in python\n",
    "# note its not aternary operator but it is like a ternary operator\n",
    "a=20\n",
    "b=30\n",
    "print(\"true\" if a>b else \"false\")"
   ]
  },
  {
   "cell_type": "code",
   "execution_count": 20,
   "id": "fbd3d2a1-3392-4f5d-a562-4870a35c09e0",
   "metadata": {},
   "outputs": [
    {
     "name": "stdout",
     "output_type": "stream",
     "text": [
      "False\n",
      "True\n"
     ]
    }
   ],
   "source": [
    "a=[2,3,4,5]# it is beacause of the value type and refference type\n",
    "b=[2,3,4,5]\n",
    "c=a\n",
    "print(a is b)\n",
    "print(a is c)"
   ]
  },
  {
   "cell_type": "code",
   "execution_count": 22,
   "id": "7a94875f-e8cb-40c0-b0c8-b2b825691368",
   "metadata": {},
   "outputs": [
    {
     "name": "stdout",
     "output_type": "stream",
     "text": [
      "False\n",
      "True\n"
     ]
    }
   ],
   "source": [
    "a=20\n",
    "b=6\n",
    "print(a is b)\n",
    "b=20\n",
    "print(a is b)"
   ]
  },
  {
   "cell_type": "markdown",
   "id": "fefe6fc6-2b97-434a-8bf6-e7ebd8fe5fe9",
   "metadata": {},
   "source": [
    "## Membership operator "
   ]
  },
  {
   "cell_type": "code",
   "execution_count": null,
   "id": "88df9a66-5dd3-4a27-a839-d58abf2d192c",
   "metadata": {},
   "outputs": [],
   "source": [
    "#1)in \n",
    "#2)not in "
   ]
  },
  {
   "cell_type": "code",
   "execution_count": 24,
   "id": "ed8701e1-3874-4108-aba4-c81d959bba8c",
   "metadata": {},
   "outputs": [
    {
     "name": "stdout",
     "output_type": "stream",
     "text": [
      "True\n",
      "False\n"
     ]
    }
   ],
   "source": [
    "a=[12,3,4,5]\n",
    "print(5 in a)\n",
    "print(12 not in a)"
   ]
  },
  {
   "cell_type": "code",
   "execution_count": null,
   "id": "499b328c-b452-465f-9d7f-40bf06ce74e3",
   "metadata": {},
   "outputs": [],
   "source": [
    "#python program if a number is divisible print(\"fizz\")\n",
    "#if number divisible by 5 print(\"buzz\")\n",
    "#if divisible by both then print(\"fizz buzz\")"
   ]
  },
  {
   "cell_type": "code",
   "execution_count": 29,
   "id": "5e100ea7-3fc3-46a1-a169-997010d09911",
   "metadata": {},
   "outputs": [
    {
     "name": "stdin",
     "output_type": "stream",
     "text": [
      " 56\n"
     ]
    }
   ],
   "source": [
    "#conditional statement without \n",
    "i=int(input())\n",
    "if i%3==0 and i%5==0:\n",
    "    print(\"fizz-buzz\")\n",
    "elif i%3==0:\n",
    "    print(\"fizz\")\n",
    "elif i%5==0:\n",
    "    print(\"buzz\")"
   ]
  },
  {
   "cell_type": "code",
   "execution_count": 37,
   "id": "f77bab46-3e45-4ffb-bf25-ff31908b1fc1",
   "metadata": {},
   "outputs": [
    {
     "name": "stdin",
     "output_type": "stream",
     "text": [
      " 556\n"
     ]
    },
    {
     "name": "stdout",
     "output_type": "stream",
     "text": [
      "no output\n"
     ]
    }
   ],
   "source": [
    "#conditional statement without \n",
    "i=int(input())\n",
    "if i%3==0 and i%5==0:\n",
    "    print(\"fizz-buzz\")\n",
    "elif i%3==0:\n",
    "    print(\"fizz\")\n",
    "elif i%5==0:\n",
    "    print(\"buzz\")\n",
    "else:\n",
    "    print(\"no output\")"
   ]
  },
  {
   "cell_type": "markdown",
   "id": "c5ac7054-8a28-46fe-8d84-9aead3e4b988",
   "metadata": {},
   "source": [
    "## instead of switch use match"
   ]
  },
  {
   "cell_type": "code",
   "execution_count": null,
   "id": "fdd66064-1e6f-473d-9dd4-e77d7dc4f5f6",
   "metadata": {},
   "outputs": [],
   "source": [
    "# there two types of loops that are \n",
    "#1)enter control loop\n",
    "#2)exit control loop"
   ]
  },
  {
   "cell_type": "code",
   "execution_count": 40,
   "id": "dd5408ea-8dc1-429d-ac70-513098a6e2b6",
   "metadata": {},
   "outputs": [
    {
     "name": "stdout",
     "output_type": "stream",
     "text": [
      "1 2 3 4 5 6 7 8 9 10 "
     ]
    }
   ],
   "source": [
    "for i in range(1,11):\n",
    "    print(i,end=\" \")"
   ]
  },
  {
   "cell_type": "code",
   "execution_count": 43,
   "id": "3f468321-4597-490e-91e6-429da7980e1d",
   "metadata": {},
   "outputs": [
    {
     "name": "stdout",
     "output_type": "stream",
     "text": [
      "10 9 8 7 6 5 4 3 2 1 "
     ]
    }
   ],
   "source": [
    "for i in range(10,0,-1):\n",
    "    print(i,end=\" \")"
   ]
  },
  {
   "cell_type": "code",
   "execution_count": 50,
   "id": "565c2ae0-94e2-4446-b5ce-5ae34170c88f",
   "metadata": {},
   "outputs": [
    {
     "name": "stdout",
     "output_type": "stream",
     "text": [
      "2 4 6 8 10 12 14 16 18 20 22 24 26 28 30 32 34 36 38 40 42 44 46 48 50 52 54 56 58 60 62 64 66 68 70 72 74 76 78 80 82 84 86 88 90 92 94 96 98 100 "
     ]
    }
   ],
   "source": [
    "#for even number\n",
    "for i in range(2,101,2):\n",
    "    print(i,end=\" \")"
   ]
  },
  {
   "cell_type": "code",
   "execution_count": 51,
   "id": "2ff0774f-a91f-47b9-a62e-b93d127587cc",
   "metadata": {},
   "outputs": [
    {
     "name": "stdout",
     "output_type": "stream",
     "text": [
      "10 9 8 7 6 5 4 3 2 1 "
     ]
    }
   ],
   "source": [
    "a=10\n",
    "while a!=0:\n",
    "    print(a,end=\" \")\n",
    "    a-=1"
   ]
  },
  {
   "cell_type": "code",
   "execution_count": null,
   "id": "f808ebad-cf58-42a1-8ec0-c170f696f828",
   "metadata": {},
   "outputs": [
    {
     "name": "stdout",
     "output_type": "stream",
     "text": [
      "10 9 8 7 6 "
     ]
    }
   ],
   "source": [
    "a=10\n",
    "while a!=0:\n",
    "    if a==5:\n",
    "        continue\n",
    "    print(a,end=\" \")\n",
    "    a-=1\n",
    "#continue statement will skip the iteration for a given condition is satisfied"
   ]
  },
  {
   "cell_type": "code",
   "execution_count": 1,
   "id": "46783085-c86f-475e-8d92-3054e750a9af",
   "metadata": {},
   "outputs": [
    {
     "name": "stdout",
     "output_type": "stream",
     "text": [
      "10 11 12 13 14 15 16 17 18 19 20 21 22 23 24 25 26 27 28 29 30 31 32 33 34 36 37 38 39 40 41 42 43 44 45 46 47 48 49 50 "
     ]
    }
   ],
   "source": [
    "a=10\n",
    "while a<=50:\n",
    "    if a==35:\n",
    "        a+=1\n",
    "        continue\n",
    "    print(a,end=\" \")\n",
    "    a+=1\n",
    "#continue statement will skip the iteration for a given condition is satisfied"
   ]
  },
  {
   "cell_type": "markdown",
   "id": "9503a70f-afa1-425f-8ed2-19e85004af9c",
   "metadata": {},
   "source": [
    "## Adoms number"
   ]
  },
  {
   "cell_type": "code",
   "execution_count": 23,
   "id": "782e3c00-edd0-4bec-ba08-916d9300f46b",
   "metadata": {},
   "outputs": [
    {
     "name": "stdin",
     "output_type": "stream",
     "text": [
      " 12\n"
     ]
    },
    {
     "ename": "AttributeError",
     "evalue": "type object 'str' has no attribute 'reversed'",
     "output_type": "error",
     "traceback": [
      "\u001b[1;31m---------------------------------------------------------------------------\u001b[0m",
      "\u001b[1;31mAttributeError\u001b[0m                            Traceback (most recent call last)",
      "Cell \u001b[1;32mIn[23], line 4\u001b[0m\n\u001b[0;32m      2\u001b[0m rev\u001b[38;5;241m=\u001b[39m\u001b[38;5;28;01mlambda\u001b[39;00m n:\u001b[38;5;28mint\u001b[39m(\u001b[38;5;28mstr\u001b[39m\u001b[38;5;241m.\u001b[39mreversed(\u001b[38;5;28mstr\u001b[39m(n)))\n\u001b[0;32m      3\u001b[0m i\u001b[38;5;241m=\u001b[39m\u001b[38;5;28mint\u001b[39m(\u001b[38;5;28minput\u001b[39m())\n\u001b[1;32m----> 4\u001b[0m val2\u001b[38;5;241m=\u001b[39m\u001b[43mrev\u001b[49m\u001b[43m(\u001b[49m\u001b[43mi\u001b[49m\u001b[43m)\u001b[49m\n\u001b[0;32m      5\u001b[0m val2\u001b[38;5;241m=\u001b[39msquare(val2)\n\u001b[0;32m      6\u001b[0m \u001b[38;5;28mprint\u001b[39m(\u001b[38;5;124m\"\u001b[39m\u001b[38;5;124mits an adnan number \u001b[39m\u001b[38;5;124m\"\u001b[39m \u001b[38;5;28;01mif\u001b[39;00m rev(val2)\u001b[38;5;241m==\u001b[39msquare(i) \u001b[38;5;28;01melse\u001b[39;00m \u001b[38;5;124m\"\u001b[39m\u001b[38;5;124mits not an adnans number\u001b[39m\u001b[38;5;124m\"\u001b[39m)\n",
      "Cell \u001b[1;32mIn[23], line 2\u001b[0m, in \u001b[0;36m<lambda>\u001b[1;34m(n)\u001b[0m\n\u001b[0;32m      1\u001b[0m square\u001b[38;5;241m=\u001b[39m\u001b[38;5;28;01mlambda\u001b[39;00m n:n\u001b[38;5;241m*\u001b[39mn\n\u001b[1;32m----> 2\u001b[0m rev\u001b[38;5;241m=\u001b[39m\u001b[38;5;28;01mlambda\u001b[39;00m n:\u001b[38;5;28mint\u001b[39m(\u001b[38;5;28;43mstr\u001b[39;49m\u001b[38;5;241;43m.\u001b[39;49m\u001b[43mreversed\u001b[49m(\u001b[38;5;28mstr\u001b[39m(n)))\n\u001b[0;32m      3\u001b[0m i\u001b[38;5;241m=\u001b[39m\u001b[38;5;28mint\u001b[39m(\u001b[38;5;28minput\u001b[39m())\n\u001b[0;32m      4\u001b[0m val2\u001b[38;5;241m=\u001b[39mrev(i)\n",
      "\u001b[1;31mAttributeError\u001b[0m: type object 'str' has no attribute 'reversed'"
     ]
    }
   ],
   "source": [
    "square=lambda n:n*n\n",
    "rev=lambda n:int(str.reversed(str(n)))\n",
    "i=int(input())\n",
    "val2=rev(i)\n",
    "val2=square(val2)\n",
    "print(\"its an adnan number \" if rev(val2)==square(i) else \"its not an adnans number\")\n",
    "\n"
   ]
  },
  {
   "cell_type": "code",
   "execution_count": 19,
   "id": "e7a1af0c-dfd8-4885-b073-cf545ffc3114",
   "metadata": {},
   "outputs": [
    {
     "data": {
      "text/plain": [
       "['__add__',\n",
       " '__class__',\n",
       " '__contains__',\n",
       " '__delattr__',\n",
       " '__dir__',\n",
       " '__doc__',\n",
       " '__eq__',\n",
       " '__format__',\n",
       " '__ge__',\n",
       " '__getattribute__',\n",
       " '__getitem__',\n",
       " '__getnewargs__',\n",
       " '__getstate__',\n",
       " '__gt__',\n",
       " '__hash__',\n",
       " '__init__',\n",
       " '__init_subclass__',\n",
       " '__iter__',\n",
       " '__le__',\n",
       " '__len__',\n",
       " '__lt__',\n",
       " '__mod__',\n",
       " '__mul__',\n",
       " '__ne__',\n",
       " '__new__',\n",
       " '__reduce__',\n",
       " '__reduce_ex__',\n",
       " '__repr__',\n",
       " '__rmod__',\n",
       " '__rmul__',\n",
       " '__setattr__',\n",
       " '__sizeof__',\n",
       " '__str__',\n",
       " '__subclasshook__',\n",
       " 'capitalize',\n",
       " 'casefold',\n",
       " 'center',\n",
       " 'count',\n",
       " 'encode',\n",
       " 'endswith',\n",
       " 'expandtabs',\n",
       " 'find',\n",
       " 'format',\n",
       " 'format_map',\n",
       " 'index',\n",
       " 'isalnum',\n",
       " 'isalpha',\n",
       " 'isascii',\n",
       " 'isdecimal',\n",
       " 'isdigit',\n",
       " 'isidentifier',\n",
       " 'islower',\n",
       " 'isnumeric',\n",
       " 'isprintable',\n",
       " 'isspace',\n",
       " 'istitle',\n",
       " 'isupper',\n",
       " 'join',\n",
       " 'ljust',\n",
       " 'lower',\n",
       " 'lstrip',\n",
       " 'maketrans',\n",
       " 'partition',\n",
       " 'removeprefix',\n",
       " 'removesuffix',\n",
       " 'replace',\n",
       " 'rfind',\n",
       " 'rindex',\n",
       " 'rjust',\n",
       " 'rpartition',\n",
       " 'rsplit',\n",
       " 'rstrip',\n",
       " 'split',\n",
       " 'splitlines',\n",
       " 'startswith',\n",
       " 'strip',\n",
       " 'swapcase',\n",
       " 'title',\n",
       " 'translate',\n",
       " 'upper',\n",
       " 'zfill']"
      ]
     },
     "execution_count": 19,
     "metadata": {},
     "output_type": "execute_result"
    }
   ],
   "source": [
    "dir(str)"
   ]
  },
  {
   "cell_type": "code",
   "execution_count": null,
   "id": "b023c1d3-1fb3-4b99-8533-86263562800a",
   "metadata": {},
   "outputs": [],
   "source": []
  }
 ],
 "metadata": {
  "kernelspec": {
   "display_name": "Python 3 (ipykernel)",
   "language": "python",
   "name": "python3"
  },
  "language_info": {
   "codemirror_mode": {
    "name": "ipython",
    "version": 3
   },
   "file_extension": ".py",
   "mimetype": "text/x-python",
   "name": "python",
   "nbconvert_exporter": "python",
   "pygments_lexer": "ipython3",
   "version": "3.12.1"
  }
 },
 "nbformat": 4,
 "nbformat_minor": 5
}
