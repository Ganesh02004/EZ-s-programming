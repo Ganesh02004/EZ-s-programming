{
 "cells": [
  {
   "cell_type": "markdown",
   "id": "527e1c74-3d3d-4f48-b02d-49470ca71241",
   "metadata": {},
   "source": [
    "### picking the second heighest number fromt the list"
   ]
  },
  {
   "cell_type": "code",
   "execution_count": 5,
   "id": "7389d34e-cbdf-40c9-9ce4-71c070b35670",
   "metadata": {},
   "outputs": [
    {
     "name": "stdout",
     "output_type": "stream",
     "text": [
      "9\n",
      "{1, 2, 3, 4, 5, 6, 7, 8, 9}\n"
     ]
    }
   ],
   "source": [
    "l=[1,2,3,4,5,6,7,8,9,10,10]\n",
    "l=set(l)\n",
    "l.remove(max(l))\n",
    "print(max(l))\n",
    "print(l)"
   ]
  },
  {
   "cell_type": "markdown",
   "id": "36e7dfa7-ea20-409e-ae39-d5e649a20f51",
   "metadata": {},
   "source": [
    "## <font color='red'> Sorting"
   ]
  },
  {
   "cell_type": "markdown",
   "id": "33b5a932-e8f0-4b95-a685-138cc3b39ddb",
   "metadata": {},
   "source": [
    "### bubble sorting"
   ]
  },
  {
   "cell_type": "code",
   "execution_count": 20,
   "id": "23cb2293-5d14-40b4-a152-e38280e2c9cc",
   "metadata": {},
   "outputs": [
    {
     "name": "stdout",
     "output_type": "stream",
     "text": [
      "[1, 2, 3, 4, 5, 6, 7, 8, 9, 10] 45\n"
     ]
    }
   ],
   "source": [
    "#bubble sort \n",
    "l=[10,9,8,7,6,5,4,3,2,1]\n",
    "c=0\n",
    "n=len(l)\n",
    "for i in range(0,n):\n",
    "    for j in range(0,n-1-i):\n",
    "        if l[j]>l[j+1]:\n",
    "            l[j],l[j+1]=l[j+1],l[j]\n",
    "        c+=1\n",
    "\n",
    "print(l,c)"
   ]
  },
  {
   "cell_type": "markdown",
   "id": "ffa848c1-2935-4023-bb81-71bd66efd8a0",
   "metadata": {},
   "source": [
    "### selection sort "
   ]
  },
  {
   "cell_type": "code",
   "execution_count": 36,
   "id": "b6979bc5-5d30-4f85-91c1-618be6b61bcf",
   "metadata": {},
   "outputs": [
    {
     "name": "stdout",
     "output_type": "stream",
     "text": [
      "1\n"
     ]
    }
   ],
   "source": [
    "l=[10,9,8,7,6,5,4,3,1,2]\n",
    "min=l[0]\n",
    "for i in l:\n",
    "    if min>i:\n",
    "        min=i\n",
    "print(min)"
   ]
  },
  {
   "cell_type": "code",
   "execution_count": 32,
   "id": "fee7adc2-7764-4b53-93a0-f827da01562f",
   "metadata": {},
   "outputs": [
    {
     "ename": "IndexError",
     "evalue": "list index out of range",
     "output_type": "error",
     "traceback": [
      "\u001b[1;31m---------------------------------------------------------------------------\u001b[0m",
      "\u001b[1;31mIndexError\u001b[0m                                Traceback (most recent call last)",
      "Cell \u001b[1;32mIn[32], line 5\u001b[0m\n\u001b[0;32m      3\u001b[0m \u001b[38;5;28;01mfor\u001b[39;00m j \u001b[38;5;129;01min\u001b[39;00m \u001b[38;5;28mrange\u001b[39m(\u001b[38;5;241m0\u001b[39m,\u001b[38;5;28mlen\u001b[39m(l)) :\n\u001b[0;32m      4\u001b[0m     \u001b[38;5;28;01mfor\u001b[39;00m i \u001b[38;5;129;01min\u001b[39;00m \u001b[38;5;28mrange\u001b[39m(j\u001b[38;5;241m+\u001b[39m\u001b[38;5;241m1\u001b[39m,\u001b[38;5;28mlen\u001b[39m(l)\u001b[38;5;241m+\u001b[39m\u001b[38;5;241m1\u001b[39m):\n\u001b[1;32m----> 5\u001b[0m         \u001b[38;5;28;01mif\u001b[39;00m \u001b[38;5;28mmin\u001b[39m\u001b[38;5;241m>\u001b[39m\u001b[43ml\u001b[49m\u001b[43m[\u001b[49m\u001b[43mi\u001b[49m\u001b[43m]\u001b[49m:\n\u001b[0;32m      6\u001b[0m             \u001b[38;5;28mmin\u001b[39m\u001b[38;5;241m=\u001b[39ml[i]\n\u001b[0;32m      7\u001b[0m             ind\u001b[38;5;241m=\u001b[39ml\u001b[38;5;241m.\u001b[39mindex(\u001b[38;5;28mmin\u001b[39m)\n",
      "\u001b[1;31mIndexError\u001b[0m: list index out of range"
     ]
    }
   ],
   "source": [
    "l=[10,9,8,7,6,5,4,3,2,1]\n",
    "min=999\n",
    "for j in range(0,len(l)) :\n",
    "    for i in range(j+1,len(l)):\n",
    "        if min>l[i]:\n",
    "            min=l[i]\n",
    "            ind=l.index(min)\n",
    "    l[j],l[ind]=l[ind],l[j]\n",
    "\n",
    "print(l)"
   ]
  },
  {
   "cell_type": "code",
   "execution_count": 33,
   "id": "63d44a96-b75c-4983-9522-93d8296c11ba",
   "metadata": {},
   "outputs": [
    {
     "name": "stdout",
     "output_type": "stream",
     "text": [
      "[1, 2, 3, 4, 5, 6, 7, 8, 9, 10]\n"
     ]
    }
   ],
   "source": [
    "#selection sort\n",
    "\n",
    "l=[10,9,8,7,6,5,4,3,2,1]\n",
    "for j in range(0,len(l)) :\n",
    "    for i in range(j+1,len(l)):\n",
    "        if l[j]>l[i]:\n",
    "            l[j],l[i]=l[i],l[j]\n",
    "print(l)"
   ]
  },
  {
   "cell_type": "markdown",
   "id": "b8405440-6e41-4752-a824-967a8e34250a",
   "metadata": {},
   "source": [
    "# insertionsort"
   ]
  },
  {
   "cell_type": "code",
   "execution_count": 2,
   "id": "56cb2cd9-5238-42ec-b380-b16fb9a3fb53",
   "metadata": {},
   "outputs": [
    {
     "name": "stdout",
     "output_type": "stream",
     "text": [
      "[1, 2, 3, 4, 5, 6, 7, 8, 9, 10]\n"
     ]
    }
   ],
   "source": [
    "l=[10,9,8,7,6,5,4,3,2,1]\n",
    "def insertion(l):\n",
    "    for i in range(1,len(l)):\n",
    "        key=l[i]\n",
    "        j=i-1\n",
    "        while j>=0 and l[j]>key:\n",
    "            l[j+1]=l[j]\n",
    "            j-=1\n",
    "        l[j+1]=key\n",
    "    return l\n",
    "s=insertion(l)\n",
    "print(s)"
   ]
  },
  {
   "cell_type": "code",
   "execution_count": 5,
   "id": "09b3375f-6551-40db-973d-4bfb8bb9ff9a",
   "metadata": {},
   "outputs": [
    {
     "name": "stdout",
     "output_type": "stream",
     "text": [
      "[1, 2, 3, 4, 5, 6, 7, 8, 9, 10]\n"
     ]
    }
   ],
   "source": [
    "l=[10,9,8,7,6,5,4,3,2,1]\n",
    "for i in range(1,len(l)):\n",
    "    j=i-1\n",
    "    key=l[i]\n",
    "    while key<l[j] and j>=0:\n",
    "        l[j+1]=l[j]\n",
    "        j-=1\n",
    "    l[j+1]=key\n",
    "print(l)"
   ]
  },
  {
   "cell_type": "markdown",
   "id": "148633c6-5d0e-473d-bd08-a3ff67cf19d5",
   "metadata": {},
   "source": [
    "### Quick \n",
    "it achived by selecting the pivot element\n"
   ]
  },
  {
   "cell_type": "code",
   "execution_count": 1,
   "id": "f6281ae6-b676-4e23-a549-bdd07ee6bee6",
   "metadata": {},
   "outputs": [
    {
     "ename": "SyntaxError",
     "evalue": "invalid syntax (3449618699.py, line 7)",
     "output_type": "error",
     "traceback": [
      "\u001b[1;36m  Cell \u001b[1;32mIn[1], line 7\u001b[1;36m\u001b[0m\n\u001b[1;33m    sorrt=quick(l,0,len(l)-1)for i\u001b[0m\n\u001b[1;37m                             ^\u001b[0m\n\u001b[1;31mSyntaxError\u001b[0m\u001b[1;31m:\u001b[0m invalid syntax\n"
     ]
    }
   ],
   "source": [
    "l=[10,9,8,7,6,5,4,3,2,1]\n",
    "def quick(l,low,high):\n",
    "    if low<high:\n",
    "        pi=divide(l,low,high)\n",
    "        quick(l,low,high)\n",
    "pivot=l[0]\n",
    "sorrt=quick(l,0,len(l)-1)for i "
   ]
  },
  {
   "cell_type": "markdown",
   "id": "fecc6464-85b6-440c-a85c-80d9a1d7011f",
   "metadata": {},
   "source": [
    "### merge sort"
   ]
  },
  {
   "cell_type": "code",
   "execution_count": null,
   "id": "89f6032b-57d9-4198-b851-dfabed3a4c3f",
   "metadata": {},
   "outputs": [],
   "source": [
    "def merge():\n",
    "    left=L[low:mid]\n",
    "    right=L[mid+1:high]\n",
    "    temp=[0]*len(L)\n",
    "    i,j,t=0\n",
    "\n",
    "    while i<len(left) and j<len(right):\n",
    "        if left[i]>left[j]:\n",
    "            temp[t]=right[j]\n",
    "            j+=1\n",
    "            t+=1\n",
    "\n",
    "    while j<len(right):\n",
    "        temp[t]=right[j]\n",
    "        j+=1\n",
    "        t+=1\n",
    "\n",
    "def merg_sort(L,low,high):\n",
    "    if low<high:\n",
    "        mid=low+(high-low)//2\n",
    "        mergsort(L,low,mid)\n",
    "        mergesort(L,mid+1,high)\n",
    "        merge(L,low,mid,high)\n",
    "        "
   ]
  }
 ],
 "metadata": {
  "kernelspec": {
   "display_name": "Python 3 (ipykernel)",
   "language": "python",
   "name": "python3"
  },
  "language_info": {
   "codemirror_mode": {
    "name": "ipython",
    "version": 3
   },
   "file_extension": ".py",
   "mimetype": "text/x-python",
   "name": "python",
   "nbconvert_exporter": "python",
   "pygments_lexer": "ipython3",
   "version": "3.12.1"
  }
 },
 "nbformat": 4,
 "nbformat_minor": 5
}
