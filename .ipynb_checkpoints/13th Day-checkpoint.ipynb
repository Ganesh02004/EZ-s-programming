{
 "cells": [
  {
   "cell_type": "markdown",
   "id": "827853e2-591c-42ae-a193-532b96d05084",
   "metadata": {},
   "source": [
    "### KMP Alogrithm"
   ]
  },
  {
   "cell_type": "code",
   "execution_count": null,
   "id": "d059ddf5-1a51-44bb-b272-0697c7eb3086",
   "metadata": {},
   "outputs": [],
   "source": [
    "txt=ABABACDEABABABCABCABCABDAA\n",
    "pat=ABCAB"
   ]
  },
  {
   "cell_type": "code",
   "execution_count": 1,
   "id": "7dfc130a-4716-4690-91e5-64c24f7aa633",
   "metadata": {},
   "outputs": [
    {
     "name": "stdout",
     "output_type": "stream",
     "text": [
      "['ABABACDEABAB', 'C', 'DAA']\n",
      "12 18 "
     ]
    }
   ],
   "source": [
    "s='ABABACDEABABABCABCABCABDAA'\n",
    "p='ABCAB'\n",
    "c=0\n",
    "s=s.split(p)\n",
    "print(s)\n",
    "for i in s[:-1]:\n",
    "    c+=len(i)\n",
    "    print(c,end=\" \")\n",
    "    c+=len(p)"
   ]
  },
  {
   "cell_type": "code",
   "execution_count": null,
   "id": "3389d2f9-3c78-46c7-81b9-38216babbcdb",
   "metadata": {},
   "outputs": [],
   "source": [
    "s='ABABACDEABABABCABCABCABDAA'\n",
    "p='ABCAB'\n",
    "j=0\n",
    "l=[]\n",
    "for i in range(1,len(p)):\n",
    "    if p[i]==p[j]:\n",
    "        "
   ]
  },
  {
   "cell_type": "code",
   "execution_count": 3,
   "id": "7b237bc1-fedb-4a33-b162-7b0a6ce74616",
   "metadata": {},
   "outputs": [
    {
     "name": "stdout",
     "output_type": "stream",
     "text": [
      "19\n"
     ]
    }
   ],
   "source": [
    "def hourglassSum(arr):\n",
    "    s=0\n",
    "    l=[]\n",
    "    # Write your code here\n",
    "    for i in range(0,len(arr)-2):\n",
    "        for j in range(0,len(arr)-2):\n",
    "            s=arr[i][j]+arr[i][j+1]+arr[i][j+2]+arr[i+1][j+1]+arr[i+2][j]+arr[i+2][j+1]+arr[i+2][j+2]   \n",
    "            l.append(s)\n",
    "            s=0\n",
    "    print(max(l))\n",
    "\n",
    "arr=[[1 ,1 ,1, 0 ,0 ,0],\n",
    "[0 ,1 ,0, 0 ,0 ,0],\n",
    "[1 ,1 ,1, 0 ,0 ,0],\n",
    "[0 ,0 ,2, 4 ,4 ,0],\n",
    "[0 ,0 ,0, 2 ,0 ,0],\n",
    "[0 ,0 ,1, 2 ,4 ,0]]\n",
    "if __name__=='__main__':\n",
    "    hourglassSum(arr)"
   ]
  },
  {
   "cell_type": "markdown",
   "id": "20d3d1cc-120e-4830-88e0-e564d17b0913",
   "metadata": {},
   "source": [
    "### Kaden algoritm"
   ]
  },
  {
   "cell_type": "code",
   "execution_count": null,
   "id": "250d8276-1891-4554-acd5-662b2bfa633c",
   "metadata": {},
   "outputs": [],
   "source": []
  },
  {
   "cell_type": "code",
   "execution_count": 2,
   "id": "337fe71c-93a1-416d-a9d2-3e73892ebdf8",
   "metadata": {},
   "outputs": [
    {
     "name": "stdin",
     "output_type": "stream",
     "text": [
      " 5\n",
      " 1 2 3 4 \n"
     ]
    },
    {
     "name": "stdout",
     "output_type": "stream",
     "text": [
      "[1, 2, 3, 4]\n"
     ]
    }
   ],
   "source": [
    "n=int(input())\n",
    "\n",
    "l=list(map(int,input().split()))\n",
    "print(l)"
   ]
  },
  {
   "cell_type": "markdown",
   "id": "208f0086-2862-4b3e-b0e2-1065fe6acd9c",
   "metadata": {},
   "source": [
    "### Hashinhg"
   ]
  },
  {
   "cell_type": "code",
   "execution_count": 7,
   "id": "df208fa2-0d83-481a-a3ab-487ed0971adb",
   "metadata": {},
   "outputs": [
    {
     "ename": "SyntaxError",
     "evalue": "leading zeros in decimal integer literals are not permitted; use an 0o prefix for octal integers (4102604164.py, line 34)",
     "output_type": "error",
     "traceback": [
      "\u001b[1;36m  Cell \u001b[1;32mIn[7], line 34\u001b[1;36m\u001b[0m\n\u001b[1;33m    l=[02,30,44,55,66]\u001b[0m\n\u001b[1;37m       ^\u001b[0m\n\u001b[1;31mSyntaxError\u001b[0m\u001b[1;31m:\u001b[0m leading zeros in decimal integer literals are not permitted; use an 0o prefix for octal integers\n"
     ]
    }
   ],
   "source": [
    "class node:\n",
    "    def __init__(self,data):\n",
    "        self.next=None\n",
    "        self.data=data\n",
    "\n",
    "def insert_at_end(head,data):\n",
    "    new=node(data)\n",
    "    if head==None:\n",
    "        return new\n",
    "    current=head\n",
    "    while current.next is not None:\n",
    "        current.next=current\n",
    "    current.next=new\n",
    "    return head\n",
    "\n",
    "\n",
    "\n",
    "    \n",
    "def display(head):\n",
    "    if not head:\n",
    "        pritn('list is empty')\n",
    "        return\n",
    "    current=head\n",
    "    while current:\n",
    "        print(current.data)\n",
    "        current=current.next\n",
    "\n",
    "def delete_at_anyware(head,data):\n",
    "    if head==None:\n",
    "        print(\"NO elements to print \")\n",
    "        return head\n",
    "    if head.data==data:\n",
    "        return head.next\n",
    "    current=head\n",
    "    while current.next is not None:\n",
    "        if current.next.data==data:\n",
    "            print(current.next.data)\n",
    "            current.next=current.next.next\n",
    "            return head\n",
    "        current=current.next\n",
    "        \n",
    "\n",
    "\n",
    "dic={0:insert_at_end(head0,n),1:insert_at_end(head1),2:insert_at_end(head2),3:insert_at_end(head3),4:insert_at_end(head4),5:insert_at_end(head5),6:insert_at_end(head6),7:insert_at_end(head7),8:insert_at_end(head8),9:insert_at_end(head9)}\n",
    "n=0\n",
    "l=[2,30,44,55,66]\n",
    "for i in l:\n",
    "    print(i%10)\n",
    "    n=i\n",
    "    dic[i]"
   ]
  },
  {
   "cell_type": "code",
   "execution_count": 5,
   "id": "0b4bf923-5294-40f8-a397-6213376b2035",
   "metadata": {},
   "outputs": [
    {
     "name": "stdout",
     "output_type": "stream",
     "text": [
      "0\n",
      "0\n",
      "4\n",
      "5\n",
      "6\n"
     ]
    }
   ],
   "source": [
    "\n",
    "l=[20,30,44,55,66]\n",
    "for i in l:\n",
    "    print(i%10)"
   ]
  },
  {
   "cell_type": "code",
   "execution_count": 3,
   "id": "9f5fd50f-3e7e-4d0e-b450-c3ed574dfb11",
   "metadata": {},
   "outputs": [
    {
     "name": "stdout",
     "output_type": "stream",
     "text": [
      "Index 0: 10\n",
      "Index 1: 100\n",
      "Index 2: 22\n",
      "Index 3: 42\n",
      "Index 4: 92\n",
      "Index 5: 15\n",
      "Index 6: 56\n",
      "Index 7: 47\n",
      "Index 8: None\n",
      "Index 9: 99\n"
     ]
    }
   ],
   "source": [
    "class HashTable:\n",
    "    def __init__(self, size):\n",
    "        self.size = size\n",
    "        self.table = [None] * size\n",
    "\n",
    "    def hash_function(self, key):\n",
    "        return key % self.size\n",
    "\n",
    "    def insert(self, key):\n",
    "        index = self.hash_function(key)\n",
    "        start_index = index\n",
    "\n",
    "        while self.table[index] is not None:\n",
    "            index = (index + 1) % self.size\n",
    "            if index == start_index:\n",
    "                raise Exception(\"Hash table is full\")\n",
    "\n",
    "        self.table[index] = key\n",
    "\n",
    "    def display(self):\n",
    "        for i, val in enumerate(self.table):\n",
    "            print(f\"Index {i}: {val}\")\n",
    "\n",
    "# Create a hash table of size 7\n",
    "hash_table = HashTable(10)\n",
    "\n",
    "# Insert keys into the hash table\n",
    "keys = [22,10,47,42,56,100,15,92,99]\n",
    "for key in keys:\n",
    "    hash_table.insert(key)\n",
    "\n",
    "# Display the hash table\n",
    "hash_table.display()\n"
   ]
  },
  {
   "cell_type": "markdown",
   "id": "429c88c9-5f6e-4299-b52e-93ee46b437f3",
   "metadata": {},
   "source": [
    "## linear probing "
   ]
  },
  {
   "cell_type": "code",
   "execution_count": null,
   "id": "4ce66357-e48d-4892-9038-bea6f310b330",
   "metadata": {},
   "outputs": [],
   "source": [
    "def hash_function(key):\n",
    "    return key % self.size\n",
    "\n",
    "\n",
    "def probe(i,size):\n",
    "    key=hash_function(i)\n",
    "    start_index=key\n",
    "    \n",
    "    elif while table[key]!=None:\n",
    "        index=(index+1)%size\n",
    "        if start_index==index:\n",
    "            print(\"hash table is full\")\n",
    "    if l1[key]==None:\n",
    "        l1[key]=i\n",
    "\n",
    "    print(l1)\n",
    "     \n",
    "    \n",
    "\n",
    "\n",
    "\n",
    "\n",
    "\n",
    "\n",
    "l=[int(i) for i in input().split()]\n",
    "size=int(input(\"please provide the size of the probing\"))\n",
    "l1=[None]*size\n",
    "print(l)\n",
    "for i in l:\n",
    "    probe(i,size)"
   ]
  },
  {
   "cell_type": "code",
   "execution_count": null,
   "id": "8971757c-d207-44ef-a35a-f44a1197fb77",
   "metadata": {},
   "outputs": [],
   "source": []
  }
 ],
 "metadata": {
  "kernelspec": {
   "display_name": "Python 3 (ipykernel)",
   "language": "python",
   "name": "python3"
  },
  "language_info": {
   "codemirror_mode": {
    "name": "ipython",
    "version": 3
   },
   "file_extension": ".py",
   "mimetype": "text/x-python",
   "name": "python",
   "nbconvert_exporter": "python",
   "pygments_lexer": "ipython3",
   "version": "3.12.1"
  }
 },
 "nbformat": 4,
 "nbformat_minor": 5
}
