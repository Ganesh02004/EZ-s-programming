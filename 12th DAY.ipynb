{
 "cells": [
  {
   "cell_type": "code",
   "execution_count": 3,
   "id": "4632e0cd-f93b-480e-b0b6-8304dfc16e63",
   "metadata": {},
   "outputs": [
    {
     "name": "stdout",
     "output_type": "stream",
     "text": [
      "0b100\n"
     ]
    }
   ],
   "source": [
    "class Solution:\n",
    "    def binary_to_decimal(self,binary_str):\n",
    "        decimal = 0\n",
    "        for digit in binary_str:\n",
    "            decimal = decimal * 2 + int(digit)\n",
    "        return decimal\n",
    "    def addBinary(self, a: str, b: str) -> str:\n",
    "        a= self.binary_to_decimal(a)\n",
    "        b= self.binary_to_decimal(b)\n",
    "        return str(bin(a+b))\n",
    "Sol=Solution()\n",
    "print(Sol.addBinary(\"11\",'1'))"
   ]
  },
  {
   "cell_type": "code",
   "execution_count": 19,
   "id": "d2349e16-b0d0-4886-8077-3fb3e60254a9",
   "metadata": {},
   "outputs": [
    {
     "name": "stdout",
     "output_type": "stream",
     "text": [
      "['AB', 'NFK', 'BABCACNDA']\n",
      "2 11 "
     ]
    }
   ],
   "source": [
    "s='ABABABCANFKABABCABABCACNDA'\n",
    "p='ABABCA'\n",
    "c=0\n",
    "s=s.split(p)\n",
    "print(s)\n",
    "for i in s[:-1]:\n",
    "    c+=len(i)\n",
    "    print(c,end=\" \")\n",
    "    c+=len(p)"
   ]
  },
  {
   "cell_type": "code",
   "execution_count": null,
   "id": "ec0303e5-5fa4-4a45-9911-6e81e9a5d00e",
   "metadata": {},
   "outputs": [],
   "source": []
  }
 ],
 "metadata": {
  "kernelspec": {
   "display_name": "Python 3 (ipykernel)",
   "language": "python",
   "name": "python3"
  },
  "language_info": {
   "codemirror_mode": {
    "name": "ipython",
    "version": 3
   },
   "file_extension": ".py",
   "mimetype": "text/x-python",
   "name": "python",
   "nbconvert_exporter": "python",
   "pygments_lexer": "ipython3",
   "version": "3.12.1"
  }
 },
 "nbformat": 4,
 "nbformat_minor": 5
}
