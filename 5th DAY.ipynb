{
 "cells": [
  {
   "cell_type": "code",
   "execution_count": 40,
   "id": "e83b3cbb-0b5a-41d4-9465-aee266be10fb",
   "metadata": {},
   "outputs": [],
   "source": [
    "class stack:\n",
    "    def  __init__(self):\n",
    "        self.items=[]\n",
    "    def push(self,data):\n",
    "        self.items.append(data)\n",
    "    def pop(self):\n",
    "        return self.items.pop()\n",
    "    def size(self):\n",
    "        print(len(self.items))\n",
    "    def display(self):\n",
    "        print(self.items)\n",
    "    def invalid(self):\n",
    "        print(\"invalid input\")\n",
    "    def top(slef):\n",
    "        print(self.items[-1])\n",
    "s=stack()\n",
    "\n"
   ]
  },
  {
   "cell_type": "code",
   "execution_count": 4,
   "id": "ed94d9df-8846-4a83-84e3-79f3774cd6df",
   "metadata": {},
   "outputs": [
    {
     "name": "stdout",
     "output_type": "stream",
     "text": [
      "\t\t\tWelcome to tenzer stack services\n",
      "\n",
      "\n",
      "\t\t  1.PUSH\n",
      "\t\t  2.DELETE\n",
      "\t\t  3.DISPLAY\n",
      "\t\t  4.SIZE\n",
      "\n"
     ]
    },
    {
     "name": "stdin",
     "output_type": "stream",
     "text": [
      "Please make your choice : 1\n"
     ]
    },
    {
     "ename": "AttributeError",
     "evalue": "'stack' object has no attribute 'invalid'",
     "output_type": "error",
     "traceback": [
      "\u001b[1;31m---------------------------------------------------------------------------\u001b[0m",
      "\u001b[1;31mAttributeError\u001b[0m                            Traceback (most recent call last)",
      "Cell \u001b[1;32mIn[4], line 8\u001b[0m\n\u001b[0;32m      6\u001b[0m \u001b[38;5;28mprint\u001b[39m(\u001b[38;5;124m\"\u001b[39m\u001b[38;5;130;01m\\n\u001b[39;00m\u001b[38;5;130;01m\\n\u001b[39;00m\u001b[38;5;130;01m\\t\u001b[39;00m\u001b[38;5;130;01m\\t\u001b[39;00m\u001b[38;5;124m  1.PUSH\u001b[39m\u001b[38;5;130;01m\\n\u001b[39;00m\u001b[38;5;130;01m\\t\u001b[39;00m\u001b[38;5;130;01m\\t\u001b[39;00m\u001b[38;5;124m  2.DELETE\u001b[39m\u001b[38;5;130;01m\\n\u001b[39;00m\u001b[38;5;130;01m\\t\u001b[39;00m\u001b[38;5;130;01m\\t\u001b[39;00m\u001b[38;5;124m  3.DISPLAY\u001b[39m\u001b[38;5;130;01m\\n\u001b[39;00m\u001b[38;5;130;01m\\t\u001b[39;00m\u001b[38;5;130;01m\\t\u001b[39;00m\u001b[38;5;124m  4.SIZE\u001b[39m\u001b[38;5;130;01m\\n\u001b[39;00m\u001b[38;5;124m\"\u001b[39m)\n\u001b[0;32m      7\u001b[0m ch\u001b[38;5;241m=\u001b[39m\u001b[38;5;28mint\u001b[39m(\u001b[38;5;28minput\u001b[39m(\u001b[38;5;124m\"\u001b[39m\u001b[38;5;124mPlease make your choice :\u001b[39m\u001b[38;5;124m\"\u001b[39m))\n\u001b[1;32m----> 8\u001b[0m dic\u001b[38;5;241m.\u001b[39mget(ch,\u001b[43ms\u001b[49m\u001b[38;5;241;43m.\u001b[39;49m\u001b[43minvalid\u001b[49m)()\n\u001b[0;32m      9\u001b[0m i\u001b[38;5;241m=\u001b[39m\u001b[38;5;28minput\u001b[39m(\u001b[38;5;124m\"\u001b[39m\u001b[38;5;124mTo close the transaction please enter \u001b[39m\u001b[38;5;124m'\u001b[39m\u001b[38;5;124mc\u001b[39m\u001b[38;5;124m'\u001b[39m\u001b[38;5;124m else \u001b[39m\u001b[38;5;124m'\u001b[39m\u001b[38;5;124mno\u001b[39m\u001b[38;5;124m'\u001b[39m\u001b[38;5;124m :\u001b[39m\u001b[38;5;124m\"\u001b[39m)\n\u001b[0;32m     10\u001b[0m \u001b[38;5;28;01mif\u001b[39;00m i\u001b[38;5;241m==\u001b[39m\u001b[38;5;124m'\u001b[39m\u001b[38;5;124mc\u001b[39m\u001b[38;5;124m'\u001b[39m:\n",
      "\u001b[1;31mAttributeError\u001b[0m: 'stack' object has no attribute 'invalid'"
     ]
    }
   ],
   "source": [
    "s=stack()\n",
    "dic={1:s.pop,2:s.push,3:s.size,4:s.display}\n",
    "print(\"\\t\\t\\tWelcome to tenzer stack services\")\n",
    "while(True):\n",
    "\n",
    "    print(\"\\n\\n\\t\\t  1.PUSH\\n\\t\\t  2.DELETE\\n\\t\\t  3.DISPLAY\\n\\t\\t  4.SIZE\\n\")\n",
    "    ch=int(input(\"Please make your choice :\"))\n",
    "    dic.get(ch,s.invalid)()\n",
    "    i=input(\"To close the transaction please enter 'c' else 'no' :\")\n",
    "    if i=='c':\n",
    "        break"
   ]
  },
  {
   "cell_type": "markdown",
   "id": "4c6fc0ff-ae09-4e8a-a539-11c86d499df0",
   "metadata": {},
   "source": [
    "### bracket checking"
   ]
  },
  {
   "cell_type": "code",
   "execution_count": null,
   "id": "ae8c4df2-fe32-47ea-bcde-f1084c593533",
   "metadata": {},
   "outputs": [],
   "source": [
    "l=input(\"enter the expresion\")\n",
    "l=[i for i in l]\n",
    "print(l)\n",
    "x=[]\n",
    "f=0\n",
    "ob='[({'\n",
    "cb=')}]'\n",
    "for i in l:\n",
    "    if i in ob :\n",
    "        x.append(i)\n",
    "for i in l:\n",
    "    if i in cb:\n",
    "        y=x.pop()\n",
    "        if y=='(' and i==')':\n",
    "            pass\n",
    "        elif y=='[' and i==']':\n",
    "            pass\n",
    "        elif y=='{' and i=='}':\n",
    "            pass\n",
    "        else:\n",
    "            f=1\n",
    "            break\n",
    "print(x)\n",
    "if f==0 and x.size()==0:\n",
    "    print(\"valid\")\n",
    "else :\n",
    "    print('invalid')\n"
   ]
  },
  {
   "cell_type": "code",
   "execution_count": 2,
   "id": "a7205bab-943f-4fd4-8836-9f035998610a",
   "metadata": {},
   "outputs": [
    {
     "name": "stdin",
     "output_type": "stream",
     "text": [
      "Enter the expression:  )\n"
     ]
    },
    {
     "name": "stdout",
     "output_type": "stream",
     "text": [
      "Invalid\n"
     ]
    }
   ],
   "source": [
    "expression = input(\"Enter the expression: \")\n",
    "stack = []\n",
    "opening_brackets = '[({'\n",
    "closing_brackets = ')]}'\n",
    "is_valid = True\n",
    "\n",
    "for char in expression:\n",
    "    if char in opening_brackets:\n",
    "        stack.append(char)\n",
    "    elif char in closing_brackets:\n",
    "        if not stack:\n",
    "            is_valid = False\n",
    "            break\n",
    "        top = stack.pop()\n",
    "        if top == '(' and char != ')':\n",
    "            is_valid = False\n",
    "            break\n",
    "        elif top == '[' and char != ']':\n",
    "            is_valid = False\n",
    "            break\n",
    "        elif top == '{' and char != '}':\n",
    "            is_valid = False\n",
    "            break\n",
    "\n",
    "if stack:\n",
    "    is_valid = False\n",
    "\n",
    "if is_valid:\n",
    "    print(\"Valid\")\n",
    "else:\n",
    "    print(\"Invalid\")\n",
    "\n"
   ]
  },
  {
   "cell_type": "code",
   "execution_count": 38,
   "id": "d2994c70-f71b-4edf-ab9f-113a3876007a",
   "metadata": {},
   "outputs": [
    {
     "name": "stdin",
     "output_type": "stream",
     "text": [
      " 3,5,2,14,5,3,7,9,4,66,9,4,2,5,3\n"
     ]
    },
    {
     "name": "stdout",
     "output_type": "stream",
     "text": [
      "[5, 14, 14, 66, 7, 7, 9, 66, 66, -1, -1, 5, 5, -1, -1]\n",
      "30\n"
     ]
    }
   ],
   "source": [
    "l=[int(i) for i in input().split(',') ]\n",
    "f=l\n",
    "c=0\n",
    "for i in range(len(l)):\n",
    "    k=l[i]\n",
    "    for j in l[i+1:]:\n",
    "        c+=1\n",
    "        if j>l[i]:\n",
    "            f[i]=j\n",
    "            break\n",
    "    if l[i]==k:\n",
    "        f[i]=-1\n",
    "print(f)\n",
    "print(c)"
   ]
  },
  {
   "cell_type": "code",
   "execution_count": null,
   "id": "a83f1d20-9d33-4ff7-927c-a4ac0a514852",
   "metadata": {},
   "outputs": [],
   "source": [
    "l=[3,5,2,14,5,3,7,9,4,6,9,4,2,5,3]\n",
    "ls=l.copy()\n",
    "j=0\n",
    "i=0\n",
    "n=0\n",
    "length=len(l)\n",
    "while n!=length:\n",
    "    i+=1\n",
    "    val =l[j]\n",
    "    if l[i] >val:\n",
    "        ls[j]=l[i]\n",
    "        i=j\n",
    "        j+=1\n",
    "        n+=1\n",
    "    if i == length-1:\n",
    "        ls[j]=-1\n",
    "        i=j\n",
    "        j+=1\n",
    "        n+=1  \n",
    "print(l)\n",
    "print(ls)"
   ]
  },
  {
   "cell_type": "code",
   "execution_count": null,
   "id": "e1733543-b5b8-4127-9260-7888920993df",
   "metadata": {},
   "outputs": [],
   "source": [
    "3,5,2,14,5,3,7,9,4,6,9,4,2,5,3"
   ]
  },
  {
   "cell_type": "code",
   "execution_count": null,
   "id": "d585ceb2-259d-435a-ae29-5bf6047dc1a8",
   "metadata": {},
   "outputs": [],
   "source": [
    "# trying the above proble in the stack\n",
    "l=[int(i) for i in input().split(',') ]\n",
    "s=[]\n"
   ]
  },
  {
   "cell_type": "code",
   "execution_count": 39,
   "id": "6397c239-ee9a-41e4-bf52-383db8c41738",
   "metadata": {},
   "outputs": [],
   "source": [
    "class Queue:\n",
    "    def __init__(self):\n",
    "        self.Q=[]\n",
    "    def push(self,n):\n",
    "        self.Q.append(n)\n",
    "    def delete(self):\n",
    "        self.Q.pop(0)\n",
    "    def size(self):\n",
    "        print(\"size of the Q is:\",len(self.Q))\n",
    "    def display(self):\n",
    "        print(Q)\n",
    "    def invalid(self):\n",
    "        print(\"its an invalid input\")"
   ]
  },
  {
   "cell_type": "code",
   "execution_count": null,
   "id": "12789c11-5cd5-45d0-b39e-8fc7e25f7d47",
   "metadata": {},
   "outputs": [],
   "source": [
    "s=Q()\n",
    "dic={1:s.pop,2:s.push,3:s.size,4:s.display}\n",
    "print(\"\\t\\t\\tWelcome to tenzer stack services\")\n",
    "while(True):\n",
    "\n",
    "    print(\"\\n\\n\\t\\t  1.PUSH\\n\\t\\t  2.DELETE\\n\\t\\t  3.DISPLAY\\n\\t\\t  4.SIZE\\n\")\n",
    "    ch=int(input(\"Please make your choice :\"))\n",
    "    dic.get(ch,s.invalid)()\n",
    "    i=input(\"To close the transaction please enter 'c' else 'no' :\")\n",
    "    if i=='c':\n",
    "        break"
   ]
  },
  {
   "cell_type": "code",
   "execution_count": 43,
   "id": "ef7cabda-7fdb-46ac-83e1-176470c7d830",
   "metadata": {},
   "outputs": [
    {
     "name": "stdout",
     "output_type": "stream",
     "text": [
      "14\n",
      "13\n",
      "12\n",
      "11\n",
      "10\n",
      "9\n",
      "8\n",
      "7\n",
      "6\n",
      "5\n",
      "4\n",
      "3\n",
      "2\n",
      "1\n",
      "0\n"
     ]
    }
   ],
   "source": [
    "l=[3,5,2,14,5,3,7,9,4,6,9,4,2,5,3]\n",
    "for i in range(len(l)-1,-1,-1):\n",
    "    if s.size()!=0:\n",
    "        while s.size()!=0 and s.top()<=l[i]:\n",
    "            if s.top()<=l[i]:\n",
    "                s.pop()\n",
    "    if s.size()\n"
   ]
  },
  {
   "cell_type": "markdown",
   "id": "401416e0-9849-4cd1-a394-3be92c802bbc",
   "metadata": {},
   "source": [
    "### Linked list"
   ]
  },
  {
   "cell_type": "code",
   "execution_count": 58,
   "id": "1141fc7d-2678-43ca-bb53-fd01306c8a54",
   "metadata": {},
   "outputs": [
    {
     "name": "stdout",
     "output_type": "stream",
     "text": [
      "<__main__.node object at 0x0000011EE097A990> 10\n",
      "<__main__.node object at 0x0000011EE0715E80> 20\n",
      "<__main__.node object at 0x0000011EE0979F10> 30\n"
     ]
    }
   ],
   "source": [
    "class node:\n",
    "    def __init__(self,data):\n",
    "        self.value=data\n",
    "        self.next=None\n",
    "head=node(10)\n",
    "initial=head\n",
    "head.next=node(20)\n",
    "head.next.next=node(30)\n",
    "print(head,head.value)\n",
    "print(head.next,head.next.value)\n",
    "print(head.next.next,head.next.next.value)"
   ]
  },
  {
   "cell_type": "code",
   "execution_count": 2,
   "id": "b8827afd-c07e-4834-a775-0256441fff8b",
   "metadata": {},
   "outputs": [
    {
     "name": "stdin",
     "output_type": "stream",
     "text": [
      "Enter the number of inputs:  3\n",
      "Enter the element to be added at front:  1\n"
     ]
    },
    {
     "name": "stdout",
     "output_type": "stream",
     "text": [
      "Elements in the list are:\n",
      "1 -> None\n"
     ]
    },
    {
     "name": "stdin",
     "output_type": "stream",
     "text": [
      "Enter the element to be added at front:  2\n"
     ]
    },
    {
     "name": "stdout",
     "output_type": "stream",
     "text": [
      "Elements in the list are:\n",
      "2 -> 1 -> None\n"
     ]
    },
    {
     "name": "stdin",
     "output_type": "stream",
     "text": [
      "Enter the element to be added at front:  3\n"
     ]
    },
    {
     "name": "stdout",
     "output_type": "stream",
     "text": [
      "Elements in the list are:\n",
      "3 -> 2 -> 1 -> None\n"
     ]
    }
   ],
   "source": [
    "class Node:\n",
    "    def __init__(self, data):\n",
    "        self.value = data\n",
    "        self.next = None\n",
    "\n",
    "def insert_at_front(head):\n",
    "    i = int(input(\"Enter the element to be added at front: \"))\n",
    "    current = Node(i)\n",
    "    current.next = head\n",
    "    head = current\n",
    "    return head\n",
    "\n",
    "def insert_at_end(head):\n",
    "    i = int(input(\"Enter the new element to be added: \"))\n",
    "    new_node = Node(i)\n",
    "    \n",
    "    if head is None:\n",
    "        return new_node\n",
    "    \n",
    "    current = head\n",
    "    while current.next is not None:\n",
    "        current = current.next\n",
    "    \n",
    "    current.next = new_node\n",
    "    return head\n",
    "\n",
    "def delete_at_end(head):\n",
    "    if head is None:\n",
    "        print(\"The list is empty\")\n",
    "        return head\n",
    "    \n",
    "    if head.next is None:\n",
    "        print(f\"The deleted element is {head.value}\")\n",
    "        return None\n",
    "\n",
    "    current = head\n",
    "    while current.next.next is not None:\n",
    "        current = current.next\n",
    "    \n",
    "    print(f\"The deleted element is {current.next.value}\")\n",
    "    current.next = None\n",
    "    return head\n",
    "\n",
    "def display(head):\n",
    "    if head is None:\n",
    "        print(\"List is empty\")\n",
    "    else:\n",
    "        print(\"Elements in the list are:\")\n",
    "        current = head\n",
    "        while current is not None:\n",
    "            print(current.value, end=' -> ')\n",
    "            current = current.next\n",
    "\n",
    "\n",
    "def delete_at_front(head):\n",
    "    if head is None:\n",
    "        print(\"The list is empty\")\n",
    "        return head\n",
    "    \n",
    "    print(f\"The deleted element is {head.value}\")\n",
    "    head = head.next\n",
    "    return head\n",
    "\n",
    "def invalid():\n",
    "    print(\"Invalid input\")\n",
    "\n",
    "# Main loop to handle user input\n",
    "head = None\n",
    "n = int(input(\"Enter the number of inputs: \"))\n",
    "for _ in range(n):\n",
    "    head = insert_at_front(head)\n",
    "    display(head)"
   ]
  },
  {
   "cell_type": "code",
   "execution_count": 3,
   "id": "bb77fec2-16d7-40cf-8a7b-56d93f46e212",
   "metadata": {},
   "outputs": [
    {
     "name": "stdout",
     "output_type": "stream",
     "text": [
      "list is empty\n"
     ]
    }
   ],
   "source": [
    "def display(head):\n",
    "    if head==None:\n",
    "        print(\"list is empty\")\n",
    "    else:\n",
    "        print('elements in the list are')\n",
    "        current=head\n",
    "        while True:\n",
    "            print(current.value,end=' ')\n",
    "            if current.next==None:\n",
    "                break\n",
    "            current=current.next\n",
    "display(head)   "
   ]
  },
  {
   "cell_type": "code",
   "execution_count": 4,
   "id": "84c25a38-0e11-42cd-a61c-364cff024f65",
   "metadata": {},
   "outputs": [
    {
     "name": "stdout",
     "output_type": "stream",
     "text": [
      "list is empty\n"
     ]
    }
   ],
   "source": [
    "display(head)\n"
   ]
  },
  {
   "cell_type": "code",
   "execution_count": 42,
   "id": "d2894745-f865-4bd7-b4ab-9f3774a069d7",
   "metadata": {},
   "outputs": [
    {
     "name": "stdout",
     "output_type": "stream",
     "text": [
      "the list is empty\n"
     ]
    }
   ],
   "source": [
    "delete_at_end(head)"
   ]
  },
  {
   "cell_type": "code",
   "execution_count": null,
   "id": "50bab631-e10a-4065-8f34-6bb82a243d5e",
   "metadata": {},
   "outputs": [],
   "source": [
    "i=input()\n",
    "n=i\n",
    "n.split('+' or '-' or '/'  or'//' or '*')\n",
    "print()\n",
    "print(i)\n",
    "for j in i:\n",
    "    if i==isdigit(i):\n",
    "        print('hello')\n",
    "        \n",
    "        "
   ]
  },
  {
   "cell_type": "code",
   "execution_count": 2,
   "id": "da58f5c3-d433-4743-8ee8-1a1f20003e60",
   "metadata": {},
   "outputs": [
    {
     "data": {
      "text/plain": [
       "['__add__',\n",
       " '__class__',\n",
       " '__contains__',\n",
       " '__delattr__',\n",
       " '__dir__',\n",
       " '__doc__',\n",
       " '__eq__',\n",
       " '__format__',\n",
       " '__ge__',\n",
       " '__getattribute__',\n",
       " '__getitem__',\n",
       " '__getnewargs__',\n",
       " '__getstate__',\n",
       " '__gt__',\n",
       " '__hash__',\n",
       " '__init__',\n",
       " '__init_subclass__',\n",
       " '__iter__',\n",
       " '__le__',\n",
       " '__len__',\n",
       " '__lt__',\n",
       " '__mod__',\n",
       " '__mul__',\n",
       " '__ne__',\n",
       " '__new__',\n",
       " '__reduce__',\n",
       " '__reduce_ex__',\n",
       " '__repr__',\n",
       " '__rmod__',\n",
       " '__rmul__',\n",
       " '__setattr__',\n",
       " '__sizeof__',\n",
       " '__str__',\n",
       " '__subclasshook__',\n",
       " 'capitalize',\n",
       " 'casefold',\n",
       " 'center',\n",
       " 'count',\n",
       " 'encode',\n",
       " 'endswith',\n",
       " 'expandtabs',\n",
       " 'find',\n",
       " 'format',\n",
       " 'format_map',\n",
       " 'index',\n",
       " 'isalnum',\n",
       " 'isalpha',\n",
       " 'isascii',\n",
       " 'isdecimal',\n",
       " 'isdigit',\n",
       " 'isidentifier',\n",
       " 'islower',\n",
       " 'isnumeric',\n",
       " 'isprintable',\n",
       " 'isspace',\n",
       " 'istitle',\n",
       " 'isupper',\n",
       " 'join',\n",
       " 'ljust',\n",
       " 'lower',\n",
       " 'lstrip',\n",
       " 'maketrans',\n",
       " 'partition',\n",
       " 'removeprefix',\n",
       " 'removesuffix',\n",
       " 'replace',\n",
       " 'rfind',\n",
       " 'rindex',\n",
       " 'rjust',\n",
       " 'rpartition',\n",
       " 'rsplit',\n",
       " 'rstrip',\n",
       " 'split',\n",
       " 'splitlines',\n",
       " 'startswith',\n",
       " 'strip',\n",
       " 'swapcase',\n",
       " 'title',\n",
       " 'translate',\n",
       " 'upper',\n",
       " 'zfill']"
      ]
     },
     "execution_count": 2,
     "metadata": {},
     "output_type": "execute_result"
    }
   ],
   "source": [
    "\n",
    "dir(str)"
   ]
  },
  {
   "cell_type": "code",
   "execution_count": 3,
   "id": "01704c2a-997a-4241-95ea-4e6491b72829",
   "metadata": {},
   "outputs": [
    {
     "name": "stdin",
     "output_type": "stream",
     "text": [
      " 8-8\n"
     ]
    },
    {
     "name": "stdout",
     "output_type": "stream",
     "text": [
      "0.0\n"
     ]
    }
   ],
   "source": [
    "ls = ['**','//','*','/','+','-']\n",
    "def operate(a,b,op):\n",
    "    match op:\n",
    "        case '**' : return a**b\n",
    "        case '//' : return int(a//b)\n",
    "        case '*' : return a*b\n",
    "        case '/' : return a/b\n",
    "        case '+' : return a+b\n",
    "        case '-' : return a-b\n",
    "        case _ : return None\n",
    "    \n",
    "    \n",
    "\n",
    "n = input()\n",
    "op =None\n",
    "for i in ls:\n",
    "    num = n.split(i)\n",
    "    if len(num) == 2:\n",
    "        op = i\n",
    "        break\n",
    "print(operate(float(num[0]),float(num[1]),op))"
   ]
  },
  {
   "cell_type": "code",
   "execution_count": 6,
   "id": "70e878df-552b-481d-a28f-c9b3af0bc9e2",
   "metadata": {},
   "outputs": [
    {
     "name": "stdin",
     "output_type": "stream",
     "text": [
      " 23423423.32423423+23476542\n"
     ]
    },
    {
     "name": "stdout",
     "output_type": "stream",
     "text": [
      "46899965.32423423\n"
     ]
    }
   ],
   "source": [
    "def operate(a,b,op):\n",
    "    match op:\n",
    "        case '**' : return a**b\n",
    "        case '//' : return int(a//b)\n",
    "        case '*' : return a*b\n",
    "        case '/' : return a/b\n",
    "        case '+' : return a+b\n",
    "        case '-' : return a-b\n",
    "        case _ : return None\n",
    "n = input()\n",
    "for i in range(len(n)):\n",
    "    if (n[i] + n[i+1]) in ['//','**']:\n",
    "        op = n[i] + n[i+1]\n",
    "        break\n",
    "    elif n[i] in ['*','/','+','-']:\n",
    "        op = n[i]\n",
    "        break\n",
    "print(operate(float(n[0:i]),float(n[i+len(op):]),op))"
   ]
  },
  {
   "cell_type": "code",
   "execution_count": 2,
   "id": "f5df7603-7b23-47b6-ac93-860df0c7eb87",
   "metadata": {},
   "outputs": [
    {
     "name": "stdin",
     "output_type": "stream",
     "text": [
      "enter the element to be added at front 1\n"
     ]
    },
    {
     "name": "stdout",
     "output_type": "stream",
     "text": [
      "<__main__.node object at 0x0000014F69EC9EB0>\n",
      "<__main__.node object at 0x0000014F69EC9EB0>\n",
      "<__main__.node object at 0x0000014F69EC9EB0>\n",
      "<__main__.node object at 0x0000014F69EC9EB0>\n"
     ]
    },
    {
     "name": "stdin",
     "output_type": "stream",
     "text": [
      "enter the element to be added at front 2\n"
     ]
    },
    {
     "name": "stdout",
     "output_type": "stream",
     "text": [
      "<__main__.node object at 0x0000014F69CE43B0>\n",
      "<__main__.node object at 0x0000014F69CE43B0>\n",
      "<__main__.node object at 0x0000014F69CE43B0>\n",
      "<__main__.node object at 0x0000014F69CE43B0>\n"
     ]
    },
    {
     "name": "stdin",
     "output_type": "stream",
     "text": [
      "enter the element to be added at front 3\n"
     ]
    },
    {
     "name": "stdout",
     "output_type": "stream",
     "text": [
      "<__main__.node object at 0x0000014F69CE43B0>\n",
      "<__main__.node object at 0x0000014F69CE43B0>\n",
      "<__main__.node object at 0x0000014F69CE43B0>\n",
      "<__main__.node object at 0x0000014F69CE43B0>\n"
     ]
    }
   ],
   "source": [
    "class node:\n",
    "    def __init__(self,data):\n",
    "        self.value=data\n",
    "        self.next=None\n",
    "head=None\n",
    "def insert_at_front(head):\n",
    "    i=int(input(\"enter the element to be added at front\"))\n",
    "    current=node(i)\n",
    "    print(current)\n",
    "    current.next=head\n",
    "    head=current\n",
    "    print(current)\n",
    "    print(head)\n",
    "    return head\n",
    "for i in range(3):\n",
    "    print(insert_at_front(head))"
   ]
  },
  {
   "cell_type": "code",
   "execution_count": null,
   "id": "534ba6fd-1a8b-474c-a0e0-9d2acae165f5",
   "metadata": {},
   "outputs": [],
   "source": []
  }
 ],
 "metadata": {
  "kernelspec": {
   "display_name": "Python 3 (ipykernel)",
   "language": "python",
   "name": "python3"
  },
  "language_info": {
   "codemirror_mode": {
    "name": "ipython",
    "version": 3
   },
   "file_extension": ".py",
   "mimetype": "text/x-python",
   "name": "python",
   "nbconvert_exporter": "python",
   "pygments_lexer": "ipython3",
   "version": "3.12.1"
  }
 },
 "nbformat": 4,
 "nbformat_minor": 5
}
