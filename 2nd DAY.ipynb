{
 "cells": [
  {
   "cell_type": "markdown",
   "id": "8a50b573-4de8-4bf5-b7a9-333d599c9615",
   "metadata": {},
   "source": [
    "### <font color='red'>Access specfiers"
   ]
  },
  {
   "cell_type": "code",
   "execution_count": null,
   "id": "dc9a0552-7c06-48e6-8f2a-3e729e594ac4",
   "metadata": {},
   "outputs": [],
   "source": [
    "class Student:\n",
    "    def __init__(self,nm,ag,gn):`\n",
    "        self.name=nm\n",
    "        self.age=ag\n",
    "        self.gemder=gn"
   ]
  },
  {
   "cell_type": "code",
   "execution_count": null,
   "id": "fbc70024-0518-48e6-a383-20e9dbda0a12",
   "metadata": {},
   "outputs": [],
   "source": [
    "#In Python, the self parameter is used in method definitions to refer to the instance of the class. It allows you to access the attributes and methods of the class in object-oriented programming"
   ]
  },
  {
   "cell_type": "markdown",
   "id": "511ac971-2d94-4eb7-a2cd-2bd5ff53df19",
   "metadata": {},
   "source": [
    "## Protected Members\n",
    "Protected members are indicated by a single underscore (_) prefix. This is a convention to indicate that these members are intended for internal use within the class and its subclasses. "
   ]
  },
  {
   "cell_type": "code",
   "execution_count": 7,
   "id": "9fbba484-6a20-41ff-ae7e-0795df11221f",
   "metadata": {
    "scrolled": true
   },
   "outputs": [
    {
     "name": "stdout",
     "output_type": "stream",
     "text": [
      "<class 'int'>\n",
      "<class 'str'>\n",
      "<class 'str'>\n",
      "<class 'float'>\n",
      "<class 'list'>\n"
     ]
    }
   ],
   "source": [
    "\n",
    "print(type(2))\n",
    "print(type('c'))\n",
    "print(type(\"hi this is ganesh\"))\n",
    "print(type(5.66))\n",
    "l=['hi',2,'k',4.5]\n",
    "print(type(l))"
   ]
  },
  {
   "cell_type": "code",
   "execution_count": 4,
   "id": "ffce9e75-bb70-419f-b46a-90f863ee0bdd",
   "metadata": {},
   "outputs": [
    {
     "name": "stdout",
     "output_type": "stream",
     "text": [
      "Before function call: 5\n",
      "Inside function: 15\n",
      "After function call: 5\n"
     ]
    }
   ],
   "source": [
    "def modify_immutable(x):\n",
    "    x = x + 10\n",
    "    print(\"Inside function:\", x)\n",
    "\n",
    "a = 5\n",
    "print(\"Before function call:\", a)\n",
    "modify_immutable(a)\n",
    "print(\"After function call:\", a)\n"
   ]
  },
  {
   "cell_type": "code",
   "execution_count": null,
   "id": "2df588b1-58d1-42b1-b807-85f9f22caf9c",
   "metadata": {},
   "outputs": [],
   "source": []
  },
  {
   "cell_type": "code",
   "execution_count": 4,
   "id": "da85f520-25ee-4330-acf6-87acf56ce4d2",
   "metadata": {},
   "outputs": [
    {
     "name": "stdout",
     "output_type": "stream",
     "text": [
      "Before function call: 5\n",
      "Inside function: 15\n",
      "After function call: 5\n"
     ]
    }
   ],
   "source": [
    "def modify_immutable(x):\n",
    "    x = x + 10\n",
    "    print(\"Inside function:\", x)\n",
    "\n",
    "a = 5\n",
    "print(\"Before function call:\", a)\n",
    "modify_immutable(a)\n",
    "print(\"After function call:\", a)\n"
   ]
  },
  {
   "cell_type": "code",
   "execution_count": 20,
   "id": "bc1602b2-94c2-4045-a291-0a423a8c285a",
   "metadata": {},
   "outputs": [
    {
     "name": "stdout",
     "output_type": "stream",
     "text": [
      "this is indra\n",
      "this is Ganesh\n",
      "this is shagufthas Isaaq\n",
      "are you boared?\n",
      "lets hangout\n"
     ]
    }
   ],
   "source": [
    "class A:\n",
    "    def print(self):\n",
    "        print('this is indra')\n",
    "    def _put(self):\n",
    "        print(\"this is shagufthas Isaaq\")\n",
    "class B(A):\n",
    "    def prin(self):\n",
    "        print(\"this is Ganesh\")\n",
    "class C(B):\n",
    "    def __aunty(self):\n",
    "        print(\"are you boared?\\nlets hangout\")\n",
    "\n",
    "    \n",
    "a=A()\n",
    "b=B()\n",
    "c=C()\n",
    "b.print()\n",
    "b.prin()\n",
    "b._put()\n",
    "c._aunty()"
   ]
  },
  {
   "cell_type": "code",
   "execution_count": null,
   "id": "7c3da46a-271c-4014-ba70-ffdee42a1d9a",
   "metadata": {},
   "outputs": [],
   "source": [
    "class calculator:\n",
    "    if sys.version_info>=(3,12:)\n",
    "        def is_integer(self)->Literal[True]\n",
    "    def __add__(self,value:int,/)->int :...\n",
    "    def __sub__(self,value:int,/)->int :...\n",
    "    def __mul__(self,value:int,/)->int :...\n",
    "def __add__(self,value:int,/)->int :..."
   ]
  },
  {
   "cell_type": "code",
   "execution_count": 21,
   "id": "38326a0a-7aa7-452d-b96d-763f31c9ede6",
   "metadata": {},
   "outputs": [
    {
     "name": "stdout",
     "output_type": "stream",
     "text": [
      "This is a private method\n"
     ]
    }
   ],
   "source": [
    "class PrivateExample:\n",
    "    def __init__(self):\n",
    "        self.__private_var = \"I am private\"\n",
    "\n",
    "    def __private_method(self):\n",
    "        return \"This is a private method\"\n",
    "\n",
    "    def access_private(self):\n",
    "        return self.__private_method()\n",
    "\n",
    "obj = PrivateExample()\n",
    "# print(obj.__private_var)          # This will raise an AttributeError\n",
    "# print(obj.__private_method())     # This will raise an AttributeError\n",
    "\n",
    "# Accessing private members through a public method of the class\n",
    "print(obj.access_private())\n"
   ]
  },
  {
   "cell_type": "code",
   "execution_count": 15,
   "id": "dae02b63-c78e-4c0d-b392-400cbe4dfcaa",
   "metadata": {},
   "outputs": [
    {
     "name": "stdin",
     "output_type": "stream",
     "text": [
      "enter the number of student 1\n",
      "enter the name: ganesh\n",
      "enter the usn: 34343\n",
      "enter the science: 5\n",
      "enter the maths: 5\n",
      "enter the kannada: 5\n",
      "enter the social_science: 5\n",
      "enter the english: 5\n"
     ]
    },
    {
     "name": "stdout",
     "output_type": "stream",
     "text": [
      "\n",
      "\n",
      "details of 1 student :\n",
      "name : ganesh\n",
      "usn : 34343\n",
      "science : 5\n",
      "maths : 5\n",
      "kannada : 5\n",
      "social_science : 5\n",
      "english : 5\n",
      "\n",
      "\n",
      "details of 1 student :\n"
     ]
    }
   ],
   "source": [
    "import statistics\n",
    "class student:\n",
    "    student={\n",
    "        'name':None,\n",
    "        'usn':None,\n",
    "        'science':None,\n",
    "        'maths':None,\n",
    "        'kannada':None,\n",
    "        'social_science':None,\n",
    "        'english':None\n",
    "    }\n",
    "    l=[]\n",
    "    def get_data(self):\n",
    "        for i in self.student:\n",
    "            self.new_student=self.student\n",
    "            self.new_student[i]=input(f\"enter the {i}:\")\n",
    "        self.grade()\n",
    "        self.l.append(self.new_student)\n",
    "    def put_data(self):\n",
    "        for i in range(len(self.l)):\n",
    "            print(f\"\\n\\ndetails of {i+1} student :\")\n",
    "            for j in self.l[i]:\n",
    "                print(j,\":\",self.l[i][j])\n",
    "    def load(self):\n",
    "        self.n=1-int(input(\"enter the serial number of the student\"))\n",
    "        print(f\"\\n\\ndetails of {i} student :\")\n",
    "        for j in self.l[self.n]:\n",
    "            print(j,\":\",self.l[self.n][j])\n",
    "\n",
    "    def grade(self):\n",
    "        self.s=0\n",
    "        for i in range(len(self.l)):\n",
    "            print(f\"\\n\\ndetails of {i+1} student :\")\n",
    "            for k,v in self.l[i].items():\n",
    "                if k == 'name' or  k =='usn':\n",
    "                    continue\n",
    "                self.s+=int(v)\n",
    "            self.l[i][\"Avarage\"]=self.s/5\n",
    "        \n",
    "c=student()\n",
    "for i in range(int(input(\"enter the number of student\"))):\n",
    "    c.get_data()\n",
    "c.put_data()\n",
    "c.grade()"
   ]
  },
  {
   "cell_type": "code",
   "execution_count": 18,
   "id": "230a0d41-66a7-4b35-a5a7-2a688793622a",
   "metadata": {},
   "outputs": [
    {
     "ename": "NameError",
     "evalue": "name 'l' is not defined",
     "output_type": "error",
     "traceback": [
      "\u001b[1;31m---------------------------------------------------------------------------\u001b[0m",
      "\u001b[1;31mNameError\u001b[0m                                 Traceback (most recent call last)",
      "Cell \u001b[1;32mIn[18], line 1\u001b[0m\n\u001b[1;32m----> 1\u001b[0m \u001b[38;5;28mprint\u001b[39m(\u001b[43ml\u001b[49m)\n",
      "\u001b[1;31mNameError\u001b[0m: name 'l' is not defined"
     ]
    }
   ],
   "source": [
    "print(l)"
   ]
  },
  {
   "cell_type": "code",
   "execution_count": 9,
   "id": "a98a9c92-5945-4433-b3c1-f62302c6ad23",
   "metadata": {},
   "outputs": [
    {
     "ename": "KeyError",
     "evalue": "slice(2, None, None)",
     "output_type": "error",
     "traceback": [
      "\u001b[1;31m---------------------------------------------------------------------------\u001b[0m",
      "\u001b[1;31mKeyError\u001b[0m                                  Traceback (most recent call last)",
      "Cell \u001b[1;32mIn[9], line 2\u001b[0m\n\u001b[0;32m      1\u001b[0m s\u001b[38;5;241m=\u001b[39m{\u001b[38;5;124m\"\u001b[39m\u001b[38;5;124mhis\u001b[39m\u001b[38;5;124m\"\u001b[39m:\u001b[38;5;241m343\u001b[39m,\u001b[38;5;124m'\u001b[39m\u001b[38;5;124mdfgs\u001b[39m\u001b[38;5;124m'\u001b[39m:\u001b[38;5;241m555\u001b[39m,\u001b[38;5;241m2\u001b[39m:\u001b[38;5;124m'\u001b[39m\u001b[38;5;124mganewf\u001b[39m\u001b[38;5;124m'\u001b[39m,\u001b[38;5;241m5\u001b[39m:\u001b[38;5;124m'\u001b[39m\u001b[38;5;124msdfsaf\u001b[39m\u001b[38;5;124m'\u001b[39m}\n\u001b[1;32m----> 2\u001b[0m \u001b[38;5;28;01mfor\u001b[39;00m i \u001b[38;5;129;01min\u001b[39;00m \u001b[43ms\u001b[49m\u001b[43m[\u001b[49m\u001b[38;5;241;43m2\u001b[39;49m\u001b[43m:\u001b[49m\u001b[43m]\u001b[49m:\n\u001b[0;32m      3\u001b[0m     \u001b[38;5;28mprint\u001b[39m(i,\u001b[38;5;124m'\u001b[39m\u001b[38;5;124m:\u001b[39m\u001b[38;5;124m'\u001b[39m,s[i])\n",
      "\u001b[1;31mKeyError\u001b[0m: slice(2, None, None)"
     ]
    }
   ],
   "source": [
    "s={\"his\":343,'dfgs':555,2:'ganewf',5:'sdfsaf'}\n",
    "for i in s[2:]:\n",
    "    print(i,':',s[i])"
   ]
  },
  {
   "cell_type": "code",
   "execution_count": null,
   "id": "73e2f3a9-2e61-4f20-8a44-8d484149be74",
   "metadata": {},
   "outputs": [],
   "source": []
  }
 ],
 "metadata": {
  "kernelspec": {
   "display_name": "Python 3 (ipykernel)",
   "language": "python",
   "name": "python3"
  },
  "language_info": {
   "codemirror_mode": {
    "name": "ipython",
    "version": 3
   },
   "file_extension": ".py",
   "mimetype": "text/x-python",
   "name": "python",
   "nbconvert_exporter": "python",
   "pygments_lexer": "ipython3",
   "version": "3.12.1"
  }
 },
 "nbformat": 4,
 "nbformat_minor": 5
}
