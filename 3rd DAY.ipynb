{
 "cells": [
  {
   "cell_type": "code",
   "execution_count": null,
   "id": "4dc66b91-188a-48c4-b450-ba8778712136",
   "metadata": {},
   "outputs": [],
   "source": []
  }
 ],
 "metadata": {
  "kernelspec": {
   "display_name": "",
   "name": ""
  },
  "language_info": {
   "name": ""
  }
 },
 "nbformat": 4,
 "nbformat_minor": 5
}
