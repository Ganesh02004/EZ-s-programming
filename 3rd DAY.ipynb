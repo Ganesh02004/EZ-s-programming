{
 "cells": [
  {
   "cell_type": "markdown",
   "id": "4dc66b91-188a-48c4-b450-ba8778712136",
   "metadata": {},
   "source": [
    "### Prime number \n",
    "\n"
   ]
  },
  {
   "cell_type": "code",
   "execution_count": 8,
   "id": "fbccd864",
   "metadata": {},
   "outputs": [
    {
     "name": "stdin",
     "output_type": "stream",
     "text": [
      "please enter the value of 'n' to find the prime number brtween the 0 to n  12\n"
     ]
    },
    {
     "name": "stdout",
     "output_type": "stream",
     "text": [
      "[5, 7, 11]\n"
     ]
    }
   ],
   "source": [
    "import math\n",
    "n=int(input(\"please enter the value of 'n' to find the prime number brtween the 0 to n \"))\n",
    "l=[]\n",
    "\n",
    "for i in range(2,n):\n",
    "    c=0\n",
    "    for j in range(2,int(math.sqrt(n)+1)):\n",
    "        if(i%j==0):\n",
    "            c+=1\n",
    "            break\n",
    "    if (c==0):\n",
    "        l.append(i)\n",
    "    \n",
    "    \n",
    "print(l)"
   ]
  },
  {
   "cell_type": "code",
   "execution_count": 5,
   "id": "be3e6118",
   "metadata": {},
   "outputs": [
    {
     "name": "stdout",
     "output_type": "stream",
     "text": [
      "3\n"
     ]
    }
   ],
   "source": [
    "print(int(math.sqrt(12)))"
   ]
  },
  {
   "cell_type": "markdown",
   "id": "78b984a6-23b2-4399-95df-705bacb99531",
   "metadata": {},
   "source": [
    "### recurssion factorial series"
   ]
  },
  {
   "cell_type": "code",
   "execution_count": 11,
   "id": "c56da0c9-6e31-4be6-89fa-93e9ae4dfad4",
   "metadata": {},
   "outputs": [
    {
     "name": "stdin",
     "output_type": "stream",
     "text": [
      "enter the number to find its factorial  5\n"
     ]
    },
    {
     "name": "stdout",
     "output_type": "stream",
     "text": [
      "120\n"
     ]
    }
   ],
   "source": [
    "def fact(n):\n",
    "    if n<=1:\n",
    "        return 1\n",
    "    else:\n",
    "        return n*fact(n-1)\n",
    "n=int(input(\"enter the number to find its factorial \"))\n",
    "print(fact(n))"
   ]
  },
  {
   "cell_type": "markdown",
   "id": "272f65e9-1b4c-410b-8d32-4f91789840ff",
   "metadata": {},
   "source": [
    "### recurssion fibbonaciseries"
   ]
  },
  {
   "cell_type": "code",
   "execution_count": 3,
   "id": "edaa1d24-2814-4fb4-9c53-076bba3ef51e",
   "metadata": {},
   "outputs": [
    {
     "name": "stdin",
     "output_type": "stream",
     "text": [
      "enter the value of n to print the fibbonacci up to n 5\n"
     ]
    },
    {
     "name": "stdout",
     "output_type": "stream",
     "text": [
      "0 1 1 2 3 5 "
     ]
    }
   ],
   "source": [
    " def fibbo(n):\n",
    "    if n<=1:\n",
    "        return n\n",
    "    else:\n",
    "        return fibbo(n-1)+fibbo(n-2)\n",
    "n=int(input(\"enter the value of n to print the fibbonacci up to n\"))\n",
    "for i in range(n+1):\n",
    "    print(fibbo(i),end=\" \")\n",
    "    "
   ]
  },
  {
   "cell_type": "markdown",
   "id": "18e3d7ff-0fca-4331-babf-9eb6435d3fb3",
   "metadata": {},
   "source": [
    "### fibbonacci without recurssion"
   ]
  },
  {
   "cell_type": "code",
   "execution_count": 4,
   "id": "a024b559-9c7f-4255-86f9-8d27b7162d13",
   "metadata": {},
   "outputs": [
    {
     "name": "stdin",
     "output_type": "stream",
     "text": [
      "enter the number series you need 5\n"
     ]
    },
    {
     "name": "stdout",
     "output_type": "stream",
     "text": [
      "0 1 1 2 3 5 "
     ]
    }
   ],
   "source": [
    "i=int(input(\"enter the number series you need\"))\n",
    "a=0\n",
    "b=1\n",
    "c=0\n",
    "for i in range(0,i+1):\n",
    "    print(c,end=\" \")\n",
    "    a=b\n",
    "    b=c\n",
    "    c=a+b\n",
    "    "
   ]
  },
  {
   "cell_type": "code",
   "execution_count": 21,
   "id": "8b9cf281-6780-4eef-b41c-d46bdd6617f8",
   "metadata": {},
   "outputs": [
    {
     "name": "stdin",
     "output_type": "stream",
     "text": [
      "please enter the value of 'n' to find the prime number brtween the 0 to n  8\n"
     ]
    },
    {
     "name": "stdout",
     "output_type": "stream",
     "text": [
      "11\n",
      "[8, 9, 10, 11]\n",
      "38\n",
      "13\n",
      "next prime after 11 is\n",
      "the sum between the next conjugative prime numbers 11 and 13 \n",
      "13 X 11: 143\n",
      "11 38 False\n"
     ]
    }
   ],
   "source": [
    "import math\n",
    "n=int(input(\"please enter the value of 'n' to find the prime number brtween the 0 to n \"))\n",
    "l=[]\n",
    "d=[]\n",
    "k=n\n",
    "t=[]\n",
    "s=0\n",
    "def primefinder(n):\n",
    "    while True:\n",
    "        c=0\n",
    "        for j in range(2,int(math.sqrt(n)+1)):\n",
    "            if(n%j==0):\n",
    "                c+=1\n",
    "                break\n",
    "        if (c==0):\n",
    "            print(n)\n",
    "            return n\n",
    "            break \n",
    "        n+=1\n",
    "n=primefinder(n)\n",
    "t.append(n)\n",
    "for i in range(k,n+1):\n",
    "    l.append(i)\n",
    "    s+=i\n",
    "print(l)\n",
    "print(s)\n",
    "d.append(s)\n",
    "m=l[-1]\n",
    "m=m+1\n",
    "y=primefinder(m)\n",
    "print(f'next prime after {n} is')\n",
    "print(f'the sum between the next conjugative prime numbers {n} and {y} ')\n",
    "\n",
    "t.append(s)\n",
    "print(f'{y} X {n}:',y*n)\n",
    "count=0\n",
    "for j in range(2,int(math.sqrt(y*n)+1)):\n",
    "    if(n%j==0):\n",
    "        count+=1\n",
    "        break\n",
    "t.append(True if count==0 else False)\n",
    "print(*tuple(t))"
   ]
  },
  {
   "cell_type": "markdown",
   "id": "ae6f837c-fc61-4bd3-aab8-7468bbe7cf0e",
   "metadata": {},
   "source": [
    "### Dawali party"
   ]
  },
  {
   "cell_type": "code",
   "execution_count": null,
   "id": "5cf429f2-2878-464e-aa27-f883fd390bc7",
   "metadata": {},
   "outputs": [],
   "source": []
  },
  {
   "cell_type": "markdown",
   "id": "29a65270-c116-453b-943c-fb39fb1ea15f",
   "metadata": {},
   "source": [
    "### Time complexity"
   ]
  },
  {
   "cell_type": "code",
   "execution_count": null,
   "id": "4704757f-68f1-43ae-8cec-0a7d855c7e29",
   "metadata": {},
   "outputs": [],
   "source": []
  }
 ],
 "metadata": {
  "kernelspec": {
   "display_name": "Python 3 (ipykernel)",
   "language": "python",
   "name": "python3"
  },
  "language_info": {
   "codemirror_mode": {
    "name": "ipython",
    "version": 3
   },
   "file_extension": ".py",
   "mimetype": "text/x-python",
   "name": "python",
   "nbconvert_exporter": "python",
   "pygments_lexer": "ipython3",
   "version": "3.12.1"
  }
 },
 "nbformat": 4,
 "nbformat_minor": 5
}
