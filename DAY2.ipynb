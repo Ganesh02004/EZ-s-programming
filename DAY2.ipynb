{
 "cells": [
  {
   "cell_type": "markdown",
   "id": "3f1b909a-1c0f-42ab-848e-c4f3d9dcf532",
   "metadata": {},
   "source": [
    "## harshad number \n"
   ]
  },
  {
   "cell_type": "code",
   "execution_count": 10,
   "id": "97119194-5c09-4e67-97cf-85434fa5abb1",
   "metadata": {},
   "outputs": [
    {
     "name": "stdin",
     "output_type": "stream",
     "text": [
      " 123\n"
     ]
    },
    {
     "name": "stdout",
     "output_type": "stream",
     "text": [
      "6\n",
      "its not a harshad number\n"
     ]
    }
   ],
   "source": [
    "i=int(input())\n",
    "s=0\n",
    "v=i\n",
    "rem=0\n",
    "while i!=0:\n",
    "    rem=i%10\n",
    "    s+=rem\n",
    "    i//=10\n",
    "print(s)\n",
    "print(\"Its a harshad number\" if v%s==0 else \"its not a harshad number\")"
   ]
  },
  {
   "cell_type": "code",
   "execution_count": 17,
   "id": "efea47f1-f4b2-42af-a784-96d30598a35a",
   "metadata": {},
   "outputs": [
    {
     "name": "stdin",
     "output_type": "stream",
     "text": [
      " 123\n"
     ]
    },
    {
     "name": "stdout",
     "output_type": "stream",
     "text": [
      "321\n"
     ]
    }
   ],
   "source": [
    "print(int(str(int(input()))[::-1]))"
   ]
  },
  {
   "cell_type": "code",
   "execution_count": 19,
   "id": "10eed0ee-74e5-4976-87ad-b33010d13c38",
   "metadata": {},
   "outputs": [
    {
     "name": "stdin",
     "output_type": "stream",
     "text": [
      " 124\n"
     ]
    },
    {
     "ename": "TypeError",
     "evalue": "unsupported operand type(s) for +: 'int' and 'str'",
     "output_type": "error",
     "traceback": [
      "\u001b[1;31m---------------------------------------------------------------------------\u001b[0m",
      "\u001b[1;31mTypeError\u001b[0m                                 Traceback (most recent call last)",
      "Cell \u001b[1;32mIn[19], line 1\u001b[0m\n\u001b[1;32m----> 1\u001b[0m \u001b[38;5;28;43msum\u001b[39;49m\u001b[43m(\u001b[49m\u001b[43m(\u001b[49m\u001b[38;5;28;43mstr\u001b[39;49m\u001b[43m(\u001b[49m\u001b[38;5;28;43mint\u001b[39;49m\u001b[43m(\u001b[49m\u001b[38;5;28;43minput\u001b[39;49m\u001b[43m(\u001b[49m\u001b[43m)\u001b[49m\u001b[43m)\u001b[49m\u001b[43m)\u001b[49m\u001b[43m[\u001b[49m\u001b[43m:\u001b[49m\u001b[43m:\u001b[49m\u001b[38;5;241;43m-\u001b[39;49m\u001b[38;5;241;43m1\u001b[39;49m\u001b[43m]\u001b[49m\u001b[43m)\u001b[49m\u001b[43m)\u001b[49m\n",
      "\u001b[1;31mTypeError\u001b[0m: unsupported operand type(s) for +: 'int' and 'str'"
     ]
    }
   ],
   "source": [
    "sum((str(int(input()))[::-1]))"
   ]
  },
  {
   "cell_type": "code",
   "execution_count": null,
   "id": "cc5c8a5f-33ca-4777-9362-c87bda1e9ee2",
   "metadata": {},
   "outputs": [],
   "source": []
  },
  {
   "cell_type": "code",
   "execution_count": 8,
   "id": "d37c0672-dd99-493a-8bb6-4d08efb41b16",
   "metadata": {},
   "outputs": [
    {
     "name": "stdin",
     "output_type": "stream",
     "text": [
      " 123\n"
     ]
    },
    {
     "name": "stdout",
     "output_type": "stream",
     "text": [
      "[123]\n",
      "123\n"
     ]
    }
   ],
   "source": [
    "s=[int(i) for i in input().split(' ')]\n",
    "print(s)\n",
    "s=sum(s)\n",
    "print(s)"
   ]
  },
  {
   "cell_type": "markdown",
   "id": "6e4ee7d3-7603-46b4-ab88-2d71d3567f67",
   "metadata": {},
   "source": [
    "## Happy number\n"
   ]
  },
  {
   "cell_type": "code",
   "execution_count": 1,
   "id": "5a4f9d4b-62cd-4d08-acf6-9f7f6fe35f44",
   "metadata": {},
   "outputs": [
    {
     "name": "stdin",
     "output_type": "stream",
     "text": [
      " 19\n"
     ]
    },
    {
     "name": "stdout",
     "output_type": "stream",
     "text": [
      "its a happy number\n"
     ]
    }
   ],
   "source": [
    "def squaresum(i):\n",
    "    s=0\n",
    "    v=i\n",
    "    rem=0\n",
    "    while i!=0:\n",
    "        rem=i%10\n",
    "        s+=(rem*rem)\n",
    "        i//=10\n",
    "    return s\n",
    "i=int(input())\n",
    "while True:\n",
    "    i=squaresum(i)\n",
    "    if i==1:\n",
    "        print(\"its a happy number\")\n",
    "        break\n",
    "    if i!=1 and 1<i<10:\n",
    "        print(\"its not a happy number\")\n",
    "        break\n",
    "    \n",
    "    \n",
    "    "
   ]
  },
  {
   "cell_type": "code",
   "execution_count": 10,
   "id": "1e374d01-ec7c-4380-ae06-15d9220a5b73",
   "metadata": {},
   "outputs": [
    {
     "name": "stdout",
     "output_type": "stream",
     "text": [
      "[3, 4, 3, 4, 2]\n"
     ]
    }
   ],
   "source": [
    "a=[1,2,3,4,5]\n",
    "for i in range(1,4):\n",
    "    a[i-2]=a[i]\n",
    "print(a)"
   ]
  },
  {
   "cell_type": "code",
   "execution_count": 11,
   "id": "cfa2bfea-70d7-4b72-86cb-4ce451d3a148",
   "metadata": {},
   "outputs": [
    {
     "data": {
      "text/plain": [
       "['__add__',\n",
       " '__class__',\n",
       " '__class_getitem__',\n",
       " '__contains__',\n",
       " '__delattr__',\n",
       " '__delitem__',\n",
       " '__dir__',\n",
       " '__doc__',\n",
       " '__eq__',\n",
       " '__format__',\n",
       " '__ge__',\n",
       " '__getattribute__',\n",
       " '__getitem__',\n",
       " '__getstate__',\n",
       " '__gt__',\n",
       " '__hash__',\n",
       " '__iadd__',\n",
       " '__imul__',\n",
       " '__init__',\n",
       " '__init_subclass__',\n",
       " '__iter__',\n",
       " '__le__',\n",
       " '__len__',\n",
       " '__lt__',\n",
       " '__mul__',\n",
       " '__ne__',\n",
       " '__new__',\n",
       " '__reduce__',\n",
       " '__reduce_ex__',\n",
       " '__repr__',\n",
       " '__reversed__',\n",
       " '__rmul__',\n",
       " '__setattr__',\n",
       " '__setitem__',\n",
       " '__sizeof__',\n",
       " '__str__',\n",
       " '__subclasshook__',\n",
       " 'append',\n",
       " 'clear',\n",
       " 'copy',\n",
       " 'count',\n",
       " 'extend',\n",
       " 'index',\n",
       " 'insert',\n",
       " 'pop',\n",
       " 'remove',\n",
       " 'reverse',\n",
       " 'sort']"
      ]
     },
     "execution_count": 11,
     "metadata": {},
     "output_type": "execute_result"
    }
   ],
   "source": [
    "dir(list)"
   ]
  },
  {
   "cell_type": "markdown",
   "id": "57e0b7b2-6d08-438b-b73e-3c5ec8037bb5",
   "metadata": {},
   "source": [
    "\n",
    "### sorting the list in reveresed order \n"
   ]
  },
  {
   "cell_type": "code",
   "execution_count": 6,
   "id": "7884b079-7e26-4051-9cb4-5817a209f2c1",
   "metadata": {},
   "outputs": [
    {
     "name": "stdout",
     "output_type": "stream",
     "text": [
      "[0, 34, 34, 43, 56, 65, 67, 68, 534]\n",
      "[534, 68, 67, 65, 56, 43, 34, 34, 0]\n",
      "False\n"
     ]
    }
   ],
   "source": [
    "l=[34,534,68,56,0,34,43,65,67]\n",
    "l.sort()#static methods are used by using the dot operators they affect the original list\n",
    "print(l)\n",
    "s=sorted(l,reverse=True)\n",
    "print(s)# where reversed is a normal method they do not affect the original list\n",
    "s=all(l)# 'all' function is used to check wether a list contain any zeros if there exists return the true\n",
    "print(s)\n"
   ]
  },
  {
   "cell_type": "code",
   "execution_count": 7,
   "id": "590aad91-a2bd-4e3f-8c0c-ff00930cf737",
   "metadata": {},
   "outputs": [
    {
     "name": "stdout",
     "output_type": "stream",
     "text": [
      "[2, 3, 4, 6, 9, 4, 5, 6, 23]\n"
     ]
    }
   ],
   "source": [
    "a=[2,3,4,6,9]\n",
    "b=[4,5,6,23]\n",
    "print(a+b)"
   ]
  },
  {
   "cell_type": "code",
   "execution_count": 9,
   "id": "ee166fb5-71c2-4c3d-8e4f-e430e3d3a2cf",
   "metadata": {},
   "outputs": [
    {
     "name": "stdout",
     "output_type": "stream",
     "text": [
      "[2, 3, 4, 6, 9, 2, 3, 4, 6, 9]\n"
     ]
    }
   ],
   "source": [
    "print(a*2)#print the list twice"
   ]
  },
  {
   "cell_type": "markdown",
   "id": "1de68d11-dc2e-424e-97e4-f019d42c0763",
   "metadata": {},
   "source": [
    "### slicing the list"
   ]
  },
  {
   "cell_type": "code",
   "execution_count": 10,
   "id": "6e314c1e-0994-4e0f-8d38-8cb32b0225c9",
   "metadata": {},
   "outputs": [
    {
     "name": "stdout",
     "output_type": "stream",
     "text": [
      "[1, 2, 3, 4, 5, 6, 7, 8, 9]\n",
      "[3, 4, 5, 6, 7, 8, 9]\n",
      "[1, 2, 3, 4, 5]\n",
      "[3, 4, 5, 6]\n",
      "[6, 7]\n",
      "[1, 3, 5, 7, 9]\n",
      "[1, 2, 3, 4, 5, 6, 7, 8, 9]\n",
      "[2, 5]\n"
     ]
    }
   ],
   "source": [
    "a=[1,2,3,4,5,6,7,8,9]\n",
    "print(a[:])\n",
    "print(a[2:])\n",
    "print(a[:5])\n",
    "print(a[2:6])\n",
    "print(a[-4:-2])\n",
    "print(a[::2])\n",
    "print(a[::1])\n",
    "print(a[1:6:3])"
   ]
  },
  {
   "cell_type": "markdown",
   "id": "ae7438f0-93a6-4b48-9560-47debf97a37f",
   "metadata": {},
   "source": [
    "### nested list"
   ]
  },
  {
   "cell_type": "code",
   "execution_count": 14,
   "id": "a760466b-24b5-4423-a60c-da18dfe21ea3",
   "metadata": {},
   "outputs": [
    {
     "name": "stdout",
     "output_type": "stream",
     "text": [
      "[4, 65, 54]\n",
      "2\n",
      "54\n"
     ]
    }
   ],
   "source": [
    "a=[1,2,4,5,[6,7,8,9],[4,65,54]]\n",
    "print(a[5])\n",
    "print(2)\n",
    "print(a[5][2])#accessing the nested list "
   ]
  },
  {
   "cell_type": "markdown",
   "id": "c304cd71-9078-49b5-b4c8-2614834382d5",
   "metadata": {},
   "source": [
    "### list comprehension"
   ]
  },
  {
   "cell_type": "code",
   "execution_count": 17,
   "id": "c8957ba1-3150-4963-8b28-186c1a95b3d4",
   "metadata": {},
   "outputs": [
    {
     "name": "stdout",
     "output_type": "stream",
     "text": [
      "[1, 4, 9, 16, 25, 36, 49, 64, 81]\n",
      "[0, 0, 4, 0, 16, 0, 36, 0, 64, 0, 100]\n"
     ]
    }
   ],
   "source": [
    "a=[i**2 for i in range(1,10)]# printing the square numbers\n",
    "print(a)\n",
    "b=[i**2 if i%2==0 else 0 for i in range(0,11)]\n",
    "print(b)"
   ]
  },
  {
   "cell_type": "code",
   "execution_count": 19,
   "id": "9bdef2f1-9cd0-41f8-9295-b1df377c2631",
   "metadata": {},
   "outputs": [
    {
     "data": {
      "text/plain": [
       "['__and__',\n",
       " '__class__',\n",
       " '__class_getitem__',\n",
       " '__contains__',\n",
       " '__delattr__',\n",
       " '__dir__',\n",
       " '__doc__',\n",
       " '__eq__',\n",
       " '__format__',\n",
       " '__ge__',\n",
       " '__getattribute__',\n",
       " '__getstate__',\n",
       " '__gt__',\n",
       " '__hash__',\n",
       " '__iand__',\n",
       " '__init__',\n",
       " '__init_subclass__',\n",
       " '__ior__',\n",
       " '__isub__',\n",
       " '__iter__',\n",
       " '__ixor__',\n",
       " '__le__',\n",
       " '__len__',\n",
       " '__lt__',\n",
       " '__ne__',\n",
       " '__new__',\n",
       " '__or__',\n",
       " '__rand__',\n",
       " '__reduce__',\n",
       " '__reduce_ex__',\n",
       " '__repr__',\n",
       " '__ror__',\n",
       " '__rsub__',\n",
       " '__rxor__',\n",
       " '__setattr__',\n",
       " '__sizeof__',\n",
       " '__str__',\n",
       " '__sub__',\n",
       " '__subclasshook__',\n",
       " '__xor__',\n",
       " 'add',\n",
       " 'clear',\n",
       " 'copy',\n",
       " 'difference',\n",
       " 'difference_update',\n",
       " 'discard',\n",
       " 'intersection',\n",
       " 'intersection_update',\n",
       " 'isdisjoint',\n",
       " 'issubset',\n",
       " 'issuperset',\n",
       " 'pop',\n",
       " 'remove',\n",
       " 'symmetric_difference',\n",
       " 'symmetric_difference_update',\n",
       " 'union',\n",
       " 'update']"
      ]
     },
     "execution_count": 19,
     "metadata": {},
     "output_type": "execute_result"
    }
   ],
   "source": [
    "dir(set)"
   ]
  },
  {
   "cell_type": "code",
   "execution_count": 21,
   "id": "f8f7bfb4-21f0-433f-82b1-2e9014a8da28",
   "metadata": {},
   "outputs": [
    {
     "name": "stdout",
     "output_type": "stream",
     "text": [
      "{5, 6, 8, 9}\n"
     ]
    }
   ],
   "source": [
    "l={3,5,6,8,9,6}\n",
    "l.pop()\n",
    "print(l)"
   ]
  },
  {
   "cell_type": "code",
   "execution_count": 22,
   "id": "2a864bda-6256-413a-9f2d-3acbff50a26b",
   "metadata": {},
   "outputs": [
    {
     "data": {
      "text/plain": [
       "['__add__',\n",
       " '__class__',\n",
       " '__class_getitem__',\n",
       " '__contains__',\n",
       " '__delattr__',\n",
       " '__dir__',\n",
       " '__doc__',\n",
       " '__eq__',\n",
       " '__format__',\n",
       " '__ge__',\n",
       " '__getattribute__',\n",
       " '__getitem__',\n",
       " '__getnewargs__',\n",
       " '__getstate__',\n",
       " '__gt__',\n",
       " '__hash__',\n",
       " '__init__',\n",
       " '__init_subclass__',\n",
       " '__iter__',\n",
       " '__le__',\n",
       " '__len__',\n",
       " '__lt__',\n",
       " '__mul__',\n",
       " '__ne__',\n",
       " '__new__',\n",
       " '__reduce__',\n",
       " '__reduce_ex__',\n",
       " '__repr__',\n",
       " '__rmul__',\n",
       " '__setattr__',\n",
       " '__sizeof__',\n",
       " '__str__',\n",
       " '__subclasshook__',\n",
       " 'count',\n",
       " 'index']"
      ]
     },
     "execution_count": 22,
     "metadata": {},
     "output_type": "execute_result"
    }
   ],
   "source": [
    "dir(tuple)"
   ]
  },
  {
   "cell_type": "code",
   "execution_count": 29,
   "id": "34c73eda-eec3-43a1-8d4d-9143d13adf6b",
   "metadata": {},
   "outputs": [
    {
     "name": "stdout",
     "output_type": "stream",
     "text": [
      "(2, 3, 54, 6, 7, 8, 4, 5, 56, 5, 78, 56)\n",
      "(4, 5, 56, 5, 78, 56, 4, 5, 56, 5, 78, 56, 4, 5, 56, 5, 78, 56)\n",
      "(1, 4, 9, 16, 25, 36, 49, 64, 81)\n",
      "(0, 0, 4, 0, 16, 0, 36, 0, 64, 0, 100)\n"
     ]
    }
   ],
   "source": [
    "a=(2,3,54,6,7,8)\n",
    "b=(4,5,56,5,78,56)\n",
    "print(a+b)\n",
    "print(b*3)\n",
    "a=(tuple(i**2 for i in range(1,10)))# printing the square numbers\n",
    "print(a)\n",
    "b=(tuple(i**2 if i%2==0 else 0 for i in range(0,11)))\n",
    "print(b)"
   ]
  },
  {
   "cell_type": "code",
   "execution_count": 30,
   "id": "a8320a26-a228-4723-96d4-0dec653200ed",
   "metadata": {},
   "outputs": [
    {
     "name": "stdout",
     "output_type": "stream",
     "text": [
      "Help on built-in function len in module builtins:\n",
      "\n",
      "len(obj, /)\n",
      "    Return the number of items in a container.\n",
      "\n"
     ]
    }
   ],
   "source": [
    "help(len)"
   ]
  },
  {
   "cell_type": "code",
   "execution_count": 31,
   "id": "03b7856c-f51f-4977-a528-877f05286edf",
   "metadata": {},
   "outputs": [
    {
     "name": "stdout",
     "output_type": "stream",
     "text": [
      "Help on built-in function all in module builtins:\n",
      "\n",
      "all(iterable, /)\n",
      "    Return True if bool(x) is True for all values x in the iterable.\n",
      "\n",
      "    If the iterable is empty, return True.\n",
      "\n"
     ]
    }
   ],
   "source": [
    "help(all)"
   ]
  },
  {
   "cell_type": "code",
   "execution_count": null,
   "id": "98e1036a-c1c2-42eb-ac28-cf57ae6acaf5",
   "metadata": {},
   "outputs": [],
   "source": [
    "help(list.count(a))"
   ]
  },
  {
   "cell_type": "code",
   "execution_count": 38,
   "id": "e5680f0f-becb-444e-b3d5-ef2d02203d9c",
   "metadata": {},
   "outputs": [
    {
     "name": "stdout",
     "output_type": "stream",
     "text": [
      "Help on class set in module builtins:\n",
      "\n",
      "class set(object)\n",
      " |  set() -> new empty set object\n",
      " |  set(iterable) -> new set object\n",
      " |\n",
      " |  Build an unordered collection of unique elements.\n",
      " |\n",
      " |  Methods defined here:\n",
      " |\n",
      " |  __and__(self, value, /)\n",
      " |      Return self&value.\n",
      " |\n",
      " |  __contains__(...)\n",
      " |      x.__contains__(y) <==> y in x.\n",
      " |\n",
      " |  __eq__(self, value, /)\n",
      " |      Return self==value.\n",
      " |\n",
      " |  __ge__(self, value, /)\n",
      " |      Return self>=value.\n",
      " |\n",
      " |  __getattribute__(self, name, /)\n",
      " |      Return getattr(self, name).\n",
      " |\n",
      " |  __gt__(self, value, /)\n",
      " |      Return self>value.\n",
      " |\n",
      " |  __iand__(self, value, /)\n",
      " |      Return self&=value.\n",
      " |\n",
      " |  __init__(self, /, *args, **kwargs)\n",
      " |      Initialize self.  See help(type(self)) for accurate signature.\n",
      " |\n",
      " |  __ior__(self, value, /)\n",
      " |      Return self|=value.\n",
      " |\n",
      " |  __isub__(self, value, /)\n",
      " |      Return self-=value.\n",
      " |\n",
      " |  __iter__(self, /)\n",
      " |      Implement iter(self).\n",
      " |\n",
      " |  __ixor__(self, value, /)\n",
      " |      Return self^=value.\n",
      " |\n",
      " |  __le__(self, value, /)\n",
      " |      Return self<=value.\n",
      " |\n",
      " |  __len__(self, /)\n",
      " |      Return len(self).\n",
      " |\n",
      " |  __lt__(self, value, /)\n",
      " |      Return self<value.\n",
      " |\n",
      " |  __ne__(self, value, /)\n",
      " |      Return self!=value.\n",
      " |\n",
      " |  __or__(self, value, /)\n",
      " |      Return self|value.\n",
      " |\n",
      " |  __rand__(self, value, /)\n",
      " |      Return value&self.\n",
      " |\n",
      " |  __reduce__(...)\n",
      " |      Return state information for pickling.\n",
      " |\n",
      " |  __repr__(self, /)\n",
      " |      Return repr(self).\n",
      " |\n",
      " |  __ror__(self, value, /)\n",
      " |      Return value|self.\n",
      " |\n",
      " |  __rsub__(self, value, /)\n",
      " |      Return value-self.\n",
      " |\n",
      " |  __rxor__(self, value, /)\n",
      " |      Return value^self.\n",
      " |\n",
      " |  __sizeof__(...)\n",
      " |      S.__sizeof__() -> size of S in memory, in bytes\n",
      " |\n",
      " |  __sub__(self, value, /)\n",
      " |      Return self-value.\n",
      " |\n",
      " |  __xor__(self, value, /)\n",
      " |      Return self^value.\n",
      " |\n",
      " |  add(...)\n",
      " |      Add an element to a set.\n",
      " |\n",
      " |      This has no effect if the element is already present.\n",
      " |\n",
      " |  clear(...)\n",
      " |      Remove all elements from this set.\n",
      " |\n",
      " |  copy(...)\n",
      " |      Return a shallow copy of a set.\n",
      " |\n",
      " |  difference(...)\n",
      " |      Return the difference of two or more sets as a new set.\n",
      " |\n",
      " |      (i.e. all elements that are in this set but not the others.)\n",
      " |\n",
      " |  difference_update(...)\n",
      " |      Remove all elements of another set from this set.\n",
      " |\n",
      " |  discard(...)\n",
      " |      Remove an element from a set if it is a member.\n",
      " |\n",
      " |      Unlike set.remove(), the discard() method does not raise\n",
      " |      an exception when an element is missing from the set.\n",
      " |\n",
      " |  intersection(...)\n",
      " |      Return the intersection of two sets as a new set.\n",
      " |\n",
      " |      (i.e. all elements that are in both sets.)\n",
      " |\n",
      " |  intersection_update(...)\n",
      " |      Update a set with the intersection of itself and another.\n",
      " |\n",
      " |  isdisjoint(...)\n",
      " |      Return True if two sets have a null intersection.\n",
      " |\n",
      " |  issubset(...)\n",
      " |      Report whether another set contains this set.\n",
      " |\n",
      " |  issuperset(...)\n",
      " |      Report whether this set contains another set.\n",
      " |\n",
      " |  pop(...)\n",
      " |      Remove and return an arbitrary set element.\n",
      " |      Raises KeyError if the set is empty.\n",
      " |\n",
      " |  remove(...)\n",
      " |      Remove an element from a set; it must be a member.\n",
      " |\n",
      " |      If the element is not a member, raise a KeyError.\n",
      " |\n",
      " |  symmetric_difference(...)\n",
      " |      Return the symmetric difference of two sets as a new set.\n",
      " |\n",
      " |      (i.e. all elements that are in exactly one of the sets.)\n",
      " |\n",
      " |  symmetric_difference_update(...)\n",
      " |      Update a set with the symmetric difference of itself and another.\n",
      " |\n",
      " |  union(...)\n",
      " |      Return the union of sets as a new set.\n",
      " |\n",
      " |      (i.e. all elements that are in either set.)\n",
      " |\n",
      " |  update(...)\n",
      " |      Update a set with the union of itself and others.\n",
      " |\n",
      " |  ----------------------------------------------------------------------\n",
      " |  Class methods defined here:\n",
      " |\n",
      " |  __class_getitem__(...) from builtins.type\n",
      " |      See PEP 585\n",
      " |\n",
      " |  ----------------------------------------------------------------------\n",
      " |  Static methods defined here:\n",
      " |\n",
      " |  __new__(*args, **kwargs) from builtins.type\n",
      " |      Create and return a new object.  See help(type) for accurate signature.\n",
      " |\n",
      " |  ----------------------------------------------------------------------\n",
      " |  Data and other attributes defined here:\n",
      " |\n",
      " |  __hash__ = None\n",
      "\n"
     ]
    }
   ],
   "source": [
    "help(set)"
   ]
  },
  {
   "cell_type": "markdown",
   "id": "238842d7-042b-4955-bb0a-30b86e09a956",
   "metadata": {},
   "source": [
    "### <font color=\"red\">taking a input for a list\n"
   ]
  },
  {
   "cell_type": "code",
   "execution_count": 2,
   "id": "8f54f845-1a37-499f-91fe-c824335a8fca",
   "metadata": {},
   "outputs": [
    {
     "name": "stdin",
     "output_type": "stream",
     "text": [
      " 123 3 4 4 5 6\n"
     ]
    },
    {
     "name": "stdout",
     "output_type": "stream",
     "text": [
      "[123, 3, 4, 4, 5, 6]\n"
     ]
    }
   ],
   "source": [
    "a=list(map(int,input().split()))\n",
    "print(a)"
   ]
  },
  {
   "cell_type": "markdown",
   "id": "29cd278f-2cc1-461d-9ae8-26a2a528cafc",
   "metadata": {},
   "source": [
    "### dictonary"
   ]
  },
  {
   "cell_type": "code",
   "execution_count": 1,
   "id": "e85075aa-1978-45b2-956b-22e95f8f7642",
   "metadata": {},
   "outputs": [
    {
     "name": "stdin",
     "output_type": "stream",
     "text": [
      "enter the key value 100\n",
      "enter the value isaaq\n",
      "enter the key value 99\n",
      "enter the value shaguftha\n",
      "enter the key value 89\n",
      "enter the value chuthya\n"
     ]
    },
    {
     "name": "stdout",
     "output_type": "stream",
     "text": [
      "2 : isaaq\n",
      "2 : shaguftha\n",
      "2 : chuthya\n",
      "\n",
      "100 : isaaq\n",
      "99 : shaguftha\n",
      "89 : chuthya\n"
     ]
    }
   ],
   "source": [
    "d={}\n",
    "for i in range(3):\n",
    "    key=input(\"enter the key value\")\n",
    "    value=input(\"enter the value\")\n",
    "    d[key]=value\n",
    "for k,v in d.items():\n",
    "    print(i,\":\",v)\n",
    "print()\n",
    "for i in d:\n",
    "    print(i,\":\",d[i])"
   ]
  },
  {
   "cell_type": "code",
   "execution_count": 13,
   "id": "4b37decf-3e49-4f58-ba43-ffe8b92d51d4",
   "metadata": {},
   "outputs": [
    {
     "name": "stdout",
     "output_type": "stream",
     "text": [
      "\n",
      "1 : abs\n",
      "2 : bds\n",
      "3 : gan\n",
      "dict_keys([1, 2, 3])\n",
      "dict_values(['abs', 'bds', 'gan'])\n",
      "bds\n",
      "dict_items([(1, 'abs'), (2, 'bds'), (3, 'gan')])\n"
     ]
    }
   ],
   "source": [
    "d={1:\"abs\",2:\"bds\",3:\"gan\"}\n",
    "print()\n",
    "for i in d:\n",
    "    print(i,\":\",d[i])\n",
    "print(d.keys())\n",
    "print(d.values())\n",
    "print(d.get(2))\n",
    "print(d.items())"
   ]
  },
  {
   "cell_type": "code",
   "execution_count": 3,
   "id": "8e2b5450-ba7b-494b-9ab1-d91831a0c18c",
   "metadata": {},
   "outputs": [
    {
     "name": "stdout",
     "output_type": "stream",
     "text": [
      "<class 'dict'>\n",
      "<class 'set'>\n"
     ]
    }
   ],
   "source": [
    "a={}\n",
    "print(type(a))\n",
    "a={1,2}\n",
    "print(type(a))\n",
    "print(get())"
   ]
  },
  {
   "cell_type": "code",
   "execution_count": 2,
   "id": "4b62d4dc-ad17-4cd0-8ac8-253e37cfba08",
   "metadata": {},
   "outputs": [
    {
     "data": {
      "text/plain": [
       "['__class__',\n",
       " '__class_getitem__',\n",
       " '__contains__',\n",
       " '__delattr__',\n",
       " '__delitem__',\n",
       " '__dir__',\n",
       " '__doc__',\n",
       " '__eq__',\n",
       " '__format__',\n",
       " '__ge__',\n",
       " '__getattribute__',\n",
       " '__getitem__',\n",
       " '__getstate__',\n",
       " '__gt__',\n",
       " '__hash__',\n",
       " '__init__',\n",
       " '__init_subclass__',\n",
       " '__ior__',\n",
       " '__iter__',\n",
       " '__le__',\n",
       " '__len__',\n",
       " '__lt__',\n",
       " '__ne__',\n",
       " '__new__',\n",
       " '__or__',\n",
       " '__reduce__',\n",
       " '__reduce_ex__',\n",
       " '__repr__',\n",
       " '__reversed__',\n",
       " '__ror__',\n",
       " '__setattr__',\n",
       " '__setitem__',\n",
       " '__sizeof__',\n",
       " '__str__',\n",
       " '__subclasshook__',\n",
       " 'clear',\n",
       " 'copy',\n",
       " 'fromkeys',\n",
       " 'get',\n",
       " 'items',\n",
       " 'keys',\n",
       " 'pop',\n",
       " 'popitem',\n",
       " 'setdefault',\n",
       " 'update',\n",
       " 'values']"
      ]
     },
     "execution_count": 2,
     "metadata": {},
     "output_type": "execute_result"
    }
   ],
   "source": [
    "dir(dict)"
   ]
  },
  {
   "cell_type": "code",
   "execution_count": 22,
   "id": "32896145-cc24-41a4-91cd-e6dd1b0bfdd2",
   "metadata": {},
   "outputs": [
    {
     "name": "stdout",
     "output_type": "stream",
     "text": [
      "abc\n",
      "{1: 'abc', 2: 123, 3: 'gfx', 'ab': 100}\n",
      "{1: 'abc', 2: 123, 3: 'gfx', 'ab': 100}\n",
      "dict_keys([1, 2, 3, 'ab'])\n",
      "dict_values(['abc', 123, 'gfx', 100])\n",
      "123\n",
      "dict_items([(1, 'abc'), (2, 123), (3, 'gfx'), ('ab', 100)])\n",
      "{'b': 10, 'a': 10, 'd': 10, 'c': 10}\n",
      "123\n",
      "None\n",
      "122\n",
      "{1: 'hi', 'a': 123, 100: 32.1, 'h': None, 'c': 122}\n"
     ]
    }
   ],
   "source": [
    "a={1:'abc',2:\"cbd\",3:\"gfx\"}\n",
    "print(a.get(1))\n",
    "a.update({2:123,'ab':100})\n",
    "print(a)\n",
    "b=a.copy()\n",
    "print(b)\n",
    "print(a.keys())\n",
    "print(a.values())\n",
    "print(a.get(2))\n",
    "print(a.items())\n",
    "d={'a','b','c','d'}\n",
    "d=dict.fromkeys(d,10)\n",
    "print(d)\n",
    "e={1:'hi','a':123,100:32.1}\n",
    "print(e.setdefault('a'))\n",
    "print(e.setdefault('h'))\n",
    "print(e.setdefault('c',122))\n",
    "print(e)"
   ]
  },
  {
   "cell_type": "markdown",
   "id": "8ecd7976-29e1-4986-af7b-c52d55144d5f",
   "metadata": {},
   "source": [
    "### dictonary comphrension"
   ]
  },
  {
   "cell_type": "code",
   "execution_count": 27,
   "id": "88b8efa8-d647-4823-a5b9-d60f1b619530",
   "metadata": {},
   "outputs": [
    {
     "name": "stdout",
     "output_type": "stream",
     "text": [
      "cbd\n",
      "{'a': 1, 'b': 4, 'c': 9, 'd': 16, 'e': 25}\n"
     ]
    }
   ],
   "source": [
    "e={1:'hi','a':123,100:32.1,4:{1:'abc',2:\"cbd\",3:\"gfx\"}}\n",
    "print(e[4][2])\n",
    "b={'a':1,'b':2,'c':3,'d':4,'e':5}\n",
    "print({k:v**2 for k,v in b.items()})"
   ]
  },
  {
   "cell_type": "code",
   "execution_count": 1,
   "id": "ce6225d8-09c4-4087-a402-837fcbe9b07a",
   "metadata": {},
   "outputs": [
    {
     "name": "stdout",
     "output_type": "stream",
     "text": [
      "player1: stone     player2: stone\n",
      "next round.....\n",
      "player1: stone     player2: stone\n",
      "next round.....\n",
      "player1: stone     player2: scissors\n",
      "player 1 wins....\n"
     ]
    },
    {
     "name": "stdin",
     "output_type": "stream",
     "text": [
      "enter 'e' to exit the game v\n"
     ]
    },
    {
     "name": "stdout",
     "output_type": "stream",
     "text": [
      "player1: paper     player2: paper\n",
      "next round.....\n",
      "player1: paper     player2: paper\n",
      "next round.....\n",
      "player1: paper     player2: paper\n",
      "next round.....\n",
      "player1: paper     player2: paper\n",
      "next round.....\n",
      "player1: paper     player2: paper\n",
      "next round.....\n",
      "player1: scissors     player2: scissors\n",
      "next round.....\n",
      "player1: stone     player2: scissors\n",
      "player 1 wins....\n"
     ]
    },
    {
     "name": "stdin",
     "output_type": "stream",
     "text": [
      "enter 'e' to exit the game t\n"
     ]
    },
    {
     "name": "stdout",
     "output_type": "stream",
     "text": [
      "player1: stone     player2: paper\n",
      "player 2 wins....\n"
     ]
    },
    {
     "name": "stdin",
     "output_type": "stream",
     "text": [
      "enter 'e' to exit the game b\n"
     ]
    },
    {
     "name": "stdout",
     "output_type": "stream",
     "text": [
      "player1: scissors     player2: scissors\n",
      "next round.....\n",
      "player1: scissors     player2: stone\n",
      "player 2 wins....\n"
     ]
    },
    {
     "name": "stdin",
     "output_type": "stream",
     "text": [
      "enter 'e' to exit the game e\n"
     ]
    }
   ],
   "source": [
    "import random as r\n",
    "import time as t\n",
    "l=[\"stone\",'paper','scissors']\n",
    "while True:\n",
    "    while True:\n",
    "        p1=r.choice(l)\n",
    "        p2=r.choice(l)\n",
    "        t.sleep(2)\n",
    "        print('player1:',p1,end='     ')\n",
    "        t.sleep(2)\n",
    "        print('player2:',p2)\n",
    "        if p1==\"stone\" and p2==\"paper\" or p1==\"paper\" and p2==\"scissors\" or p1==\"scissors\" and p2==\"stone\" :\n",
    "            print('player 2 wins....')\n",
    "            break\n",
    "        if p2==\"stone\" and p1==\"paper\" or p1==\"scissors\" and p2==\"paper\" or p1==\"stone\" and p2==\"scissors\":\n",
    "           print('player 1 wins....')\n",
    "           break\n",
    "        print(\"next round\",end=\"\")\n",
    "        for i in range(5):\n",
    "            print('.''',end=\"\")\n",
    "            t.sleep(1)\n",
    "        print()\n",
    "    if input(\"enter 'e' to exit the game\")=='e':\n",
    "        break"
   ]
  },
  {
   "cell_type": "markdown",
   "id": "073d8943-5757-4955-8930-4f39ce7790f8",
   "metadata": {},
   "source": [
    "### STRINGS"
   ]
  },
  {
   "cell_type": "code",
   "execution_count": 7,
   "id": "6fd7743f-df40-4d90-b87d-75990c3c7027",
   "metadata": {},
   "outputs": [
    {
     "name": "stdout",
     "output_type": "stream",
     "text": [
      "Hello,boys\n",
      "hello,boys\n",
      "the thing is the boys!\n",
      "the thing is the boys!\n",
      "1\n",
      "True\n",
      "0\n",
      "h\te\tl\tl\to\n"
     ]
    }
   ],
   "source": [
    "a=\"hello,boys\"\n",
    "b=\"the thing is THE BOYS!\"\n",
    "a=a.capitalize()\n",
    "print(a)\n",
    "a=a.casefold()\n",
    "b=b.casefold()\n",
    "print(a)\n",
    "print(b)\n",
    "print(b.center(20,'*'))\n",
    "c=a+b\n",
    "print(c.count(\"hello\"))\n",
    "print(c.startswith(\"hello\"))\n",
    "print(a.rindex('hello'))\n",
    "d=\"h\\te\\tl\\tl\\to\"\n",
    "print(d)"
   ]
  },
  {
   "cell_type": "code",
   "execution_count": null,
   "id": "0bd8c28c-4312-40c2-bd58-de20a8280ecb",
   "metadata": {},
   "outputs": [],
   "source": []
  }
 ],
 "metadata": {
  "kernelspec": {
   "display_name": "Python 3 (ipykernel)",
   "language": "python",
   "name": "python3"
  },
  "language_info": {
   "codemirror_mode": {
    "name": "ipython",
    "version": 3
   },
   "file_extension": ".py",
   "mimetype": "text/x-python",
   "name": "python",
   "nbconvert_exporter": "python",
   "pygments_lexer": "ipython3",
   "version": "3.12.1"
  }
 },
 "nbformat": 4,
 "nbformat_minor": 5
}
