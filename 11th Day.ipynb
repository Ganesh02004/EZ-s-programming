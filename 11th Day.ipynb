{
 "cells": [
  {
   "cell_type": "code",
   "execution_count": 2,
   "id": "4e999e27-c048-4bb0-be6f-8eb3fd057674",
   "metadata": {},
   "outputs": [
    {
     "data": {
      "text/plain": [
       "['__class__',\n",
       " '__class_getitem__',\n",
       " '__contains__',\n",
       " '__delattr__',\n",
       " '__delitem__',\n",
       " '__dir__',\n",
       " '__doc__',\n",
       " '__eq__',\n",
       " '__format__',\n",
       " '__ge__',\n",
       " '__getattribute__',\n",
       " '__getitem__',\n",
       " '__getstate__',\n",
       " '__gt__',\n",
       " '__hash__',\n",
       " '__init__',\n",
       " '__init_subclass__',\n",
       " '__ior__',\n",
       " '__iter__',\n",
       " '__le__',\n",
       " '__len__',\n",
       " '__lt__',\n",
       " '__ne__',\n",
       " '__new__',\n",
       " '__or__',\n",
       " '__reduce__',\n",
       " '__reduce_ex__',\n",
       " '__repr__',\n",
       " '__reversed__',\n",
       " '__ror__',\n",
       " '__setattr__',\n",
       " '__setitem__',\n",
       " '__sizeof__',\n",
       " '__str__',\n",
       " '__subclasshook__',\n",
       " 'clear',\n",
       " 'copy',\n",
       " 'fromkeys',\n",
       " 'get',\n",
       " 'items',\n",
       " 'keys',\n",
       " 'pop',\n",
       " 'popitem',\n",
       " 'setdefault',\n",
       " 'update',\n",
       " 'values']"
      ]
     },
     "execution_count": 2,
     "metadata": {},
     "output_type": "execute_result"
    }
   ],
   "source": [
    "dir(dict)"
   ]
  },
  {
   "cell_type": "code",
   "execution_count": 27,
   "id": "d8982481-d076-453e-bc3e-ec9d753e94bc",
   "metadata": {},
   "outputs": [
    {
     "name": "stdout",
     "output_type": "stream",
     "text": [
      "        42\n"
     ]
    }
   ],
   "source": [
    "value = 42\n",
    "print(f\"{value:10}\")  # This will print '42' with a width of 10 characters\n"
   ]
  },
  {
   "cell_type": "code",
   "execution_count": 4,
   "id": "383da68d-3149-416c-b56e-10a00be2aaf4",
   "metadata": {},
   "outputs": [
    {
     "data": {
      "text/plain": [
       "<function sorted(iterable, /, *, key=None, reverse=False)>"
      ]
     },
     "execution_count": 4,
     "metadata": {},
     "output_type": "execute_result"
    }
   ],
   "source": [
    "sorted"
   ]
  },
  {
   "cell_type": "code",
   "execution_count": 11,
   "id": "a1bb4146-dd29-4aeb-bc7e-583315c753e8",
   "metadata": {},
   "outputs": [
    {
     "name": "stdout",
     "output_type": "stream",
     "text": [
      "[(0, 5.0), (1, 3.33), (2, 3.0), (3, 1.75), (4, 8.0), (5, 3.0), (6, 2.0)]\n",
      "[(4, 8.0), (0, 5.0), (1, 3.33), (2, 3.0), (5, 3.0), (6, 2.0), (3, 1.75)]\n",
      "{0: 5.0, 1: 3.33, 2: 3.0, 3: 1.75, 4: 8.0, 5: 3.0, 6: 2.0}\n",
      "[(4, 8.0), (0, 5.0), (1, 3.33), (2, 3.0), (5, 3.0), (6, 2.0), (3, 1.75)]\n"
     ]
    }
   ],
   "source": [
    "#Greedy Method - knapsak Method\n",
    "\n",
    "profit=[5,10,15,7,8,9,4]\n",
    "weight=[1,3,5,4,1,3,2]\n",
    "cap=15\n",
    "max_w=0\n",
    "d={}\n",
    "for i in range (len(profit)):\n",
    "    d[i]= float('{:.2f}'.format((profit[i]/weight[i])))\n",
    "l=list(d.items())\n",
    "print(l)\n",
    "sorted_list=sorted(l,key=lambda x:x[1],reverse=True)\n",
    "l.sort(key=lambda x:x[1],reverse=True)#same as the above line\n",
    "print(sorted_list)"
   ]
  },
  {
   "cell_type": "code",
   "execution_count": 14,
   "id": "25ce08ec-f8c5-4532-9455-188592dff928",
   "metadata": {},
   "outputs": [
    {
     "data": {
      "text/plain": [
       "['__class__',\n",
       " '__class_getitem__',\n",
       " '__contains__',\n",
       " '__delattr__',\n",
       " '__delitem__',\n",
       " '__dir__',\n",
       " '__doc__',\n",
       " '__eq__',\n",
       " '__format__',\n",
       " '__ge__',\n",
       " '__getattribute__',\n",
       " '__getitem__',\n",
       " '__getstate__',\n",
       " '__gt__',\n",
       " '__hash__',\n",
       " '__init__',\n",
       " '__init_subclass__',\n",
       " '__ior__',\n",
       " '__iter__',\n",
       " '__le__',\n",
       " '__len__',\n",
       " '__lt__',\n",
       " '__ne__',\n",
       " '__new__',\n",
       " '__or__',\n",
       " '__reduce__',\n",
       " '__reduce_ex__',\n",
       " '__repr__',\n",
       " '__reversed__',\n",
       " '__ror__',\n",
       " '__setattr__',\n",
       " '__setitem__',\n",
       " '__sizeof__',\n",
       " '__str__',\n",
       " '__subclasshook__',\n",
       " 'clear',\n",
       " 'copy',\n",
       " 'fromkeys',\n",
       " 'get',\n",
       " 'items',\n",
       " 'keys',\n",
       " 'pop',\n",
       " 'popitem',\n",
       " 'setdefault',\n",
       " 'update',\n",
       " 'values']"
      ]
     },
     "execution_count": 14,
     "metadata": {},
     "output_type": "execute_result"
    }
   ],
   "source": [
    "dir(dict)"
   ]
  },
  {
   "cell_type": "code",
   "execution_count": 18,
   "id": "28765c37-dac8-40c7-af85-9999adba5c7d",
   "metadata": {},
   "outputs": [
    {
     "name": "stdout",
     "output_type": "stream",
     "text": [
      "Help on method_descriptor:\n",
      "\n",
      "popitem(self, /)\n",
      "    Remove and return a (key, value) pair as a 2-tuple.\n",
      "\n",
      "    Pairs are returned in LIFO (last-in, first-out) order.\n",
      "    Raises KeyError if the dict is empty.\n",
      "\n"
     ]
    }
   ],
   "source": [
    "help(dict.popitem)"
   ]
  },
  {
   "cell_type": "code",
   "execution_count": 3,
   "id": "6e5a82a2-057e-4072-a69a-46ee0814efe6",
   "metadata": {},
   "outputs": [
    {
     "name": "stdout",
     "output_type": "stream",
     "text": [
      "Help on built-in function sorted in module builtins:\n",
      "\n",
      "sorted(iterable, /, *, key=None, reverse=False)\n",
      "    Return a new list containing all items from the iterable in ascending order.\n",
      "\n",
      "    A custom key function can be supplied to customize the sort order, and the\n",
      "    reverse flag can be set to request the result in descending order.\n",
      "\n"
     ]
    }
   ],
   "source": [
    "help(sorted)"
   ]
  },
  {
   "cell_type": "code",
   "execution_count": 5,
   "id": "92025d4d-7705-4519-8ea6-e7cc2bda1c30",
   "metadata": {},
   "outputs": [
    {
     "name": "stdout",
     "output_type": "stream",
     "text": [
      "{'apple': 5, 'banana': 10, 'cherry': 7}\n"
     ]
    }
   ],
   "source": [
    "my_dict = {'banana': 10, 'apple': 5, 'cherry': 7}\n",
    "\n",
    "# Sort dictionary by keys\n",
    "sorted_by_keys = dict(sorted(my_dict.items()))\n",
    "\n",
    "print(sorted_by_keys)\n"
   ]
  },
  {
   "cell_type": "code",
   "execution_count": 8,
   "id": "1269057c-405e-4c80-b633-d5b85bf9c4fa",
   "metadata": {},
   "outputs": [
    {
     "name": "stdout",
     "output_type": "stream",
     "text": [
      "60\n",
      "400\n",
      "400\n"
     ]
    }
   ],
   "source": [
    "#Lambda function\n",
    "def a(x):\n",
    "    return x*x\n",
    "#lambda function is a single line function\n",
    "b=lambda x:x*x\n",
    "#for a multiple parameters\n",
    "c=lambda x,y,z:x+y+z\n",
    "print(c(10,20,30))\n",
    "print(a(20))\n",
    "print(b(20))"
   ]
  },
  {
   "cell_type": "code",
   "execution_count": 20,
   "id": "291062f8-432b-4c96-945b-9bca90d7bc42",
   "metadata": {},
   "outputs": [
    {
     "name": "stdout",
     "output_type": "stream",
     "text": [
      "Item 5 included (weight: 1, profit: 8)\n",
      "Item 1 included (weight: 1, profit: 5)\n",
      "Item 2 included (weight: 3, profit: 10)\n",
      "Item 3 included (weight: 5, profit: 15)\n",
      "Item 6 included (weight: 3, profit: 9)\n",
      "Item 7 included (weight: 2, profit: 4)\n",
      "Item 4 excluded (weight: 4, profit: 7)\n",
      "Total weight in knapsack: 15\n",
      "Total profit: 51\n"
     ]
    }
   ],
   "source": [
    "profit = [5, 10, 15, 7, 8, 9, 4]\n",
    "weight = [1, 3, 5, 4, 1, 3, 2]\n",
    "cap = 15\n",
    "\n",
    "# Step 1: Calculate profit-to-weight ratio and store in dictionary\n",
    "d = {}\n",
    "for i in range(len(profit)):\n",
    "    d[i] = float('{:.2f}'.format((profit[i] / weight[i])))\n",
    "\n",
    "# Step 2: Convert dictionary to list of tuples and sort by ratio in descendiwng order\n",
    "l = list(d.items())\n",
    "sorted_list = sorted(l, key=lambda x: x[1], reverse=True)\n",
    "\n",
    "# Step 3: Initialize variables for tracking total profit and weight\n",
    "total_profit = 0\n",
    "total_weight = 0\n",
    "\n",
    "# Step 4: Iterate over sorted list and add items to knapsack\n",
    "for index, ratio in sorted_list:\n",
    "    if total_weight + weight[index] <= cap:\n",
    "        total_weight += weight[index]\n",
    "        total_profit += profit[index]\n",
    "        print(f\"Item {index + 1} included (weight: {weight[index]}, profit: {profit[index]})\")\n",
    "    else:\n",
    "        print(f\"Item {index + 1} excluded (weight: {weight[index]}, profit: {profit[index]})\")\n",
    "\n",
    "print(f\"Total weight in knapsack: {total_weight}\")\n",
    "print(f\"Total profit: {total_profit}\")\n"
   ]
  },
  {
   "cell_type": "code",
   "execution_count": 18,
   "id": "85f510d6-a469-49f6-b371-ffbce42cb96a",
   "metadata": {},
   "outputs": [
    {
     "name": "stdout",
     "output_type": "stream",
     "text": [
      "[(24, 3), (27, 3), (20, 2), (16, 2), (9, 2), (12, 1), (11, 1)]\n"
     ]
    }
   ],
   "source": [
    "dic={20:2,12:1,16:2,11:1,9:2,24:3,27:3}\n",
    "sorted_dic=sorted(dic.items(),key=lambda x:x[1],reverse=True)\n",
    "print(sorted_dic)"
   ]
  },
  {
   "cell_type": "code",
   "execution_count": 34,
   "id": "4a60cef8-2d63-4ba7-849f-58e1e8a459c1",
   "metadata": {},
   "outputs": [
    {
     "name": "stdout",
     "output_type": "stream",
     "text": [
      "51\n"
     ]
    }
   ],
   "source": [
    "def calc_max(p,w,c,n):\n",
    "    if n==0 or c==0:\n",
    "        return 0\n",
    "    if (w[n-1]>c):\n",
    "        return calc_max(p,w,c,n-1)\n",
    "    else:\n",
    "        return max(p[n-1]+calc_max(p,w,c-w[n-1],n-1),calc_max(p,w,c,n-1))\n",
    "\n",
    "\n",
    "p=[5,10,15,7,8,9,4]\n",
    "w=[1,3,5,4,1,3,2]\n",
    "c=15\n",
    "n=len(p)\n",
    "print(calc_max(p,w,c,n))"
   ]
  },
  {
   "cell_type": "code",
   "execution_count": 7,
   "id": "cf6a5702-f381-4d61-90e5-c11c635a2c6a",
   "metadata": {
    "jp-MarkdownHeadingCollapsed": true
   },
   "outputs": [
    {
     "name": "stdout",
     "output_type": "stream",
     "text": [
      "[[0, 300], [0, 300], [0, 300]]\n"
     ]
    }
   ],
   "source": [
    "l=[[0]*2]*3\n",
    "l[0][1]=10\n",
    "l[2][1]=300\n",
    "print(l)"
   ]
  },
  {
   "cell_type": "code",
   "execution_count": 29,
   "id": "3f4f5dbd-5bbc-49a6-a778-04857e156f37",
   "metadata": {},
   "outputs": [
    {
     "name": "stdout",
     "output_type": "stream",
     "text": [
      "[0, 0, 0, 0, 0, 0, 0, 0, 0, 0, 0, 0, 0, 0, 0, 0]\n",
      "[0, 5, 5, 5, 5, 5, 5, 5, 5, 5, 5, 5, 5, 5, 5, 5]\n",
      "[0, 5, 5, 10, 15, 15, 15, 15, 15, 15, 15, 15, 15, 15, 15, 15]\n",
      "[0, 5, 5, 10, 15, 15, 20, 20, 25, 30, 30, 30, 30, 30, 30, 30]\n",
      "[0, 5, 5, 10, 15, 15, 20, 20, 25, 30, 30, 30, 32, 37, 37, 37]\n",
      "[0, 8, 13, 13, 18, 23, 23, 28, 28, 33, 38, 38, 38, 40, 45, 45]\n",
      "[0, 8, 13, 13, 18, 23, 23, 28, 32, 33, 38, 38, 42, 47, 47, 47]\n",
      "[0, 8, 13, 13, 18, 23, 23, 28, 32, 33, 38, 38, 42, 47, 47, 51]\n"
     ]
    }
   ],
   "source": [
    "#knapsack problem\n",
    "def table(p,w,c,n):    \n",
    "    for i in range(1,n+1):\n",
    "        for j in range(1,c+1):\n",
    "            if w[i-1]<=j:\n",
    "                dp[i][j] = max(dp[i-1][j],dp[i-1][j-w[i-1]]+p[i-1])\n",
    "            else:\n",
    "                dp[i][j]=dp[i-1][j]\n",
    "\n",
    "p=[5,10,15,7,8,9,4]\n",
    "w=[1,3,5,4,1,3,2]\n",
    "c=15 \n",
    "n=len(p)\n",
    "dp=[[0 for _ in range(c+1)] for _ in range(n+1)]\n",
    "table(p,w,c,n)\n",
    "\n",
    "for i in dp:\n",
    "    print(i)"
   ]
  },
  {
   "cell_type": "code",
   "execution_count": 31,
   "id": "67bf035a-b425-4069-b287-8636d6387c97",
   "metadata": {},
   "outputs": [
    {
     "name": "stdout",
     "output_type": "stream",
     "text": [
      "[[0, 0, 0, 0, 0, 0, 0, 0, 0, 0, 0, 0, 0, 0, 0, 0], [0, 0, 0, 0, 0, 0, 0, 0, 0, 0, 0, 0, 0, 0, 0, 0], [0, 0, 0, 0, 0, 0, 0, 0, 0, 0, 0, 0, 0, 0, 0, 0], [0, 0, 0, 0, 0, 0, 0, 0, 0, 0, 0, 0, 0, 0, 0, 0], [0, 0, 0, 0, 0, 0, 0, 0, 0, 0, 0, 0, 0, 0, 0, 0], [0, 0, 0, 0, 0, 0, 0, 0, 0, 0, 0, 0, 0, 0, 0, 0], [0, 0, 0, 0, 0, 0, 0, 0, 0, 0, 0, 0, 0, 0, 0, 0], [0, 0, 0, 0, 0, 0, 0, 0, 0, 0, 0, 0, 0, 0, 0, 0]]\n"
     ]
    }
   ],
   "source": [
    "dp=[[0 for _ in range(c+1)] for _ in range(n+1)]\n",
    "print(dp)"
   ]
  },
  {
   "cell_type": "code",
   "execution_count": 2,
   "id": "896541ed-9c49-4b8a-bdce-04294f4a9134",
   "metadata": {},
   "outputs": [
    {
     "name": "stdin",
     "output_type": "stream",
     "text": [
      "enter the rows and colums of the matrix 3\n"
     ]
    },
    {
     "ename": "TypeError",
     "evalue": "cannot unpack non-iterable int object",
     "output_type": "error",
     "traceback": [
      "\u001b[1;31m---------------------------------------------------------------------------\u001b[0m",
      "\u001b[1;31mTypeError\u001b[0m                                 Traceback (most recent call last)",
      "Cell \u001b[1;32mIn[2], line 1\u001b[0m\n\u001b[1;32m----> 1\u001b[0m i,j\u001b[38;5;241m=\u001b[39m\u001b[38;5;28mint\u001b[39m(\u001b[38;5;28minput\u001b[39m(\u001b[38;5;124m\"\u001b[39m\u001b[38;5;124menter the rows and colums of the matrix\u001b[39m\u001b[38;5;124m\"\u001b[39m))\n\u001b[0;32m      2\u001b[0m graph\u001b[38;5;241m=\u001b[39m[\u001b[38;5;241m0\u001b[39m \u001b[38;5;28;01mif\u001b[39;00m i\u001b[38;5;241m==\u001b[39mj \u001b[38;5;28;01melse\u001b[39;00m \u001b[38;5;241m0\u001b[39m \u001b[38;5;28;01mfor\u001b[39;00m _ \u001b[38;5;129;01min\u001b[39;00m \u001b[38;5;28mrange\u001b[39m(\u001b[38;5;241m1\u001b[39m,i\u001b[38;5;241m+\u001b[39m\u001b[38;5;241m1\u001b[39m) \u001b[38;5;28;01mfor\u001b[39;00m _ \u001b[38;5;129;01min\u001b[39;00m \u001b[38;5;28mrange\u001b[39m(j\u001b[38;5;241m+\u001b[39m\u001b[38;5;241m1\u001b[39m)]\n",
      "\u001b[1;31mTypeError\u001b[0m: cannot unpack non-iterable int object"
     ]
    }
   ],
   "source": [
    "i,j=int(input(\"enter the rows and colums of the matrix\"))\n",
    "graph=[0 if i==j else 0 for _ in range(1,i+1) for _ in range(j+1)]"
   ]
  },
  {
   "cell_type": "code",
   "execution_count": 2,
   "id": "8b42bce6-2611-43a2-8fff-c0dc9fc9b4ee",
   "metadata": {},
   "outputs": [
    {
     "name": "stdout",
     "output_type": "stream",
     "text": [
      "2 4 1\n",
      "(2, 4, 1)\n",
      "(4, 7, 3)\n",
      "(7, 1, 2)\n",
      "(4, 8, 3)\n",
      "(2, 3, 4)\n",
      "(2, 6, 5)\n",
      "(4, 5, 6)\n"
     ]
    }
   ],
   "source": [
    "graph = [\n",
    "    [0, 7, -1, -1, -1, -1, 2, -1, -1],\n",
    "    [7, 0, 4, 1, -1, 5, -1, -1, -1],\n",
    "    [-1, 4, 0, -1, -1, -1, 8, -1, -1],\n",
    "    [-1, 1, -1, 0, 6, 8, 3, 3, -1],\n",
    "    [-1, -1, -1, 6, 0, -1, 6, 8, -1],\n",
    "    [-1, 5, -1, 8, -1, 0, -1, -1, -1],\n",
    "    [2, -1, 8, 3, 6, -1, 0, -1, -1],\n",
    "    [-1, -1, -1, 3, 8, -1, 9, 0, -1],\n",
    "    [-1, -1, -1, -1, -1, 2, -1, -1, 0]\n",
    "]\n",
    "\n",
    "visited = [False] * len(graph)\n",
    "min_edge = float('inf')\n",
    "x = y = -1\n",
    "\n",
    "# Finding the initial minimum edge\n",
    "for i in range(len(graph)):\n",
    "    for j in range(len(graph[i])):\n",
    "        if graph[i][j] == 0 or graph[i][j] == -1:\n",
    "            continue\n",
    "        elif min_edge > graph[i][j]:\n",
    "            min_edge = graph[i][j]\n",
    "            x = i\n",
    "            y = j\n",
    "\n",
    "print(x + 1, y + 1, min_edge)  # Initial minimum edge output\n",
    "visited[x] = True\n",
    "visited[y] = True\n",
    "mst = []\n",
    "mst.append((x + 1, y + 1, min_edge))\n",
    "\n",
    "while False in visited:\n",
    "    min_edge = float('inf')  # Reset the minimum edge for the next iteration\n",
    "    next_x = next_y = -1  # Reset next_x and next_y for the next minimum edge\n",
    "\n",
    "    for i in range(len(visited)):\n",
    "        if visited[i]:\n",
    "            for j in range(len(graph[i])):\n",
    "                if graph[i][j] == 0 or graph[i][j] == -1 or visited[j]:\n",
    "                    continue\n",
    "                elif min_edge > graph[i][j]:\n",
    "                    min_edge = graph[i][j]\n",
    "                    next_x = i\n",
    "                    next_y = j\n",
    "\n",
    "    if next_y == -1:  # If no valid edge is found, break the loop\n",
    "        break\n",
    "\n",
    "    visited[next_y] = True\n",
    "    mst.append((next_x + 1, next_y + 1, min_edge))\n",
    "\n",
    "for i in mst:\n",
    "    print(i,end=\"\\n\")"
   ]
  },
  {
   "cell_type": "code",
   "execution_count": 1,
   "id": "75b4d62a-04a6-4271-b6af-ef6f3a9a9d71",
   "metadata": {},
   "outputs": [
    {
     "name": "stdout",
     "output_type": "stream",
     "text": [
      "1 2 2\n",
      "[(1, 2, 2)]\n",
      "[(1, 2, 2), (2, 3, 3), (2, 5, 5), (1, 4, 6)]\n"
     ]
    }
   ],
   "source": [
    "graph = [[0, 2, -1, 6, -1],\n",
    "         [2, 0, 3, 8, 5],\n",
    "         [-1, 3, 0, -1, 7],\n",
    "         [6, 8, -1, 0, 9],\n",
    "         [-1, 5, 7, 9, 0]]\n",
    "\n",
    "vi=[False]*len(graph)\n",
    "min_val=float('inf')\n",
    "x=-1\n",
    "y=-1\n",
    "for i in range(len(graph)):\n",
    "    for j in range(len(graph[i])):\n",
    "        if graph[i][j]==0 or graph[i][j]==-1:\n",
    "            continue\n",
    "        elif min_val>graph[i][j]:\n",
    "            min_val=graph[i][j]\n",
    "            x=i\n",
    "            y=j\n",
    "\n",
    "print(x+1,y+1,min_val)\n",
    "vi[x]=True\n",
    "vi[y]=True\n",
    "mst=[]\n",
    "mst.append((x+1,y+1,min_val))\n",
    "print(mst)\n",
    "\n",
    "while False in vi:\n",
    "    min_val = float('inf')\n",
    "    for i in range(len(graph)):\n",
    "        if vi[i]==True:\n",
    "            for j in range(len(graph[i])):\n",
    "                if graph[i][j]==0 or graph[i][j]==-1 or vi[j]==True:\n",
    "                    continue\n",
    "                elif min_val>graph[i][j]:\n",
    "                    min_val=graph[i][j]\n",
    "                    x=i\n",
    "                    y=j\n",
    "    if min_val<float('inf'):\n",
    "        vi[y]=True\n",
    "        mst.append((x+1, y+1, min_val))\n",
    "\n",
    "print(mst)"
   ]
  },
  {
   "cell_type": "code",
   "execution_count": null,
   "id": "09b21f6e-d0db-4a62-acce-9505fe256e52",
   "metadata": {},
   "outputs": [],
   "source": []
  }
 ],
 "metadata": {
  "kernelspec": {
   "display_name": "Python 3 (ipykernel)",
   "language": "python",
   "name": "python3"
  },
  "language_info": {
   "codemirror_mode": {
    "name": "ipython",
    "version": 3
   },
   "file_extension": ".py",
   "mimetype": "text/x-python",
   "name": "python",
   "nbconvert_exporter": "python",
   "pygments_lexer": "ipython3",
   "version": "3.12.1"
  }
 },
 "nbformat": 4,
 "nbformat_minor": 5
}
