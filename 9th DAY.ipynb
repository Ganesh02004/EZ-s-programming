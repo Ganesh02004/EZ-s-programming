{
 "cells": [
  {
   "cell_type": "markdown",
   "id": "f550dcfc-8eb8-4452-a94d-b1c4b3be6d95",
   "metadata": {},
   "source": [
    "### AVL TREE\n"
   ]
  },
  {
   "cell_type": "code",
   "execution_count": 2,
   "id": "b5d59f83-cfa8-4bd3-997d-4ee797201820",
   "metadata": {},
   "outputs": [
    {
     "name": "stdout",
     "output_type": "stream",
     "text": [
      "0\n",
      "7\n",
      "12\n",
      "17\n",
      "19\n",
      "21\n",
      "27\n",
      "29\n",
      "34\n",
      "38\n",
      "75\n",
      "99\n",
      "100\n",
      "134\n",
      "143\n"
     ]
    }
   ],
   "source": [
    "class node:\n",
    "    def __init__(self,data):\n",
    "        self.value=data\n",
    "        self.left=None\n",
    "        self.right=None\n",
    "        self.height=1\n",
    "\n",
    "\n",
    "def inorder(root):\n",
    "    if root==None:\n",
    "        return \n",
    "    inorder(root.left)\n",
    "    print(root.value)\n",
    "    inorder(root.right)\n",
    "\n",
    "def ght(root):#it returns the max height of the tree from the fiven node\n",
    "    if not root:\n",
    "        return 0\n",
    "    else:\n",
    "        return ght(root.left)-ght(root.right)\n",
    "\n",
    "def getbf(root):\n",
    "    if not root:\n",
    "        return 0\n",
    "    return ght(root.left)-ght(root.right)\n",
    "        \n",
    "\n",
    "def insert(root,me):\n",
    "    if not root:\n",
    "        return node(me)\n",
    "    if me<root.value:\n",
    "        root.left=insert(root.left,me)\n",
    "    else:\n",
    "        root.right=insert(root.right,me)\n",
    "    root.height=1+max(ght(root.left),ght(root.right))\n",
    "    bf=getbf(root)\n",
    "    if bf>1 and me<root.left.value:#rr rotation\n",
    "        return rightRotate(root)\n",
    "    if bf>1 and me>root.left.value:\n",
    "        root.left=leftRotate(root)\n",
    "        return rightRotate(root)\n",
    "    if bf<-1 and me>root.right.value:#ll\n",
    "        return leftRotate(root)\n",
    "    if bf<-1 and me<root.left.value:#rl\n",
    "        root.right=rightRotate(root)\n",
    "        return leftRotate(root)\n",
    "    return root\n",
    "\n",
    "\n",
    "def leftRotate(A):\n",
    "    b=a.right\n",
    "    temp=b.left\n",
    "    b.left=a\n",
    "    a.right=temp\n",
    "    a.height=1+max(ght(a.left)-ght(a.right))\n",
    "    b.height=1+max(ght(b.left)-gth(b.right))\n",
    "    return b\n",
    "\n",
    "\n",
    "def rightRotate(A):\n",
    "    b=a.left\n",
    "    temp=b.right\n",
    "    b.right=a\n",
    "    a.left=temp\n",
    "    a.height=1+max(ght(a.left)-ght(a.right))\n",
    "    b.height=1+max(ght(b.left)-gth(b.right))\n",
    "    return b\n",
    "    \n",
    "\n",
    "\n",
    "if __name__=='__main__':\n",
    "    root=None\n",
    "    vl=[19,99,75,7,21,34,38,27,134,100,29,0,12,17,143]\n",
    "    for i in vl:\n",
    "        root=insert(root,i)\n",
    "    inorder(root)\n",
    "    "
   ]
  },
  {
   "cell_type": "markdown",
   "id": "17501854-0499-42c0-a186-7ab0e50a90a9",
   "metadata": {},
   "source": [
    "### counting the commas\n"
   ]
  },
  {
   "cell_type": "code",
   "execution_count": 12,
   "id": "23c94bb3-3b25-481f-9d23-3e186b84cbd8",
   "metadata": {},
   "outputs": [
    {
     "name": "stdout",
     "output_type": "stream",
     "text": [
      "99001\n"
     ]
    }
   ],
   "source": [
    "count=0\n",
    "for i in range(1000,100000+1):\n",
    "    count+=1\n",
    "print(count)"
   ]
  },
  {
   "cell_type": "code",
   "execution_count": null,
   "id": "0b42a28c-a5d0-42a5-a3a4-a3a15c222dba",
   "metadata": {},
   "outputs": [],
   "source": [
    "count=0\n",
    "for i in range(1000,100000):\n",
    "    if 1000<=i<10000:\n",
    "        count+=1\n",
    "    if 10000<=i<=100000:\n",
    "        count+=2\n",
    "print(count)"
   ]
  },
  {
   "cell_type": "code",
   "execution_count": 14,
   "id": "2910321f-1562-402c-8cbd-e6e2960fe7f4",
   "metadata": {},
   "outputs": [
    {
     "name": "stdout",
     "output_type": "stream",
     "text": [
      "1899000\n"
     ]
    }
   ],
   "source": [
    "count=0\n",
    "for i in range(1000,1000000):\n",
    "    i=str(i)\n",
    "    if len(i)<=5:\n",
    "        count+=1\n",
    "    if len(i)>5:\n",
    "        count+=2\n",
    "print(count)"
   ]
  },
  {
   "cell_type": "code",
   "execution_count": null,
   "id": "0d0012f3-a85e-42a6-ba65-5b0921f529d4",
   "metadata": {},
   "outputs": [],
   "source": [
    "#countin the commas using the farmula\n"
   ]
  },
  {
   "cell_type": "code",
   "execution_count": 22,
   "id": "56cc7a5e-a071-4916-a01d-be2357f5fae8",
   "metadata": {},
   "outputs": [
    {
     "name": "stdout",
     "output_type": "stream",
     "text": [
      "1\n"
     ]
    }
   ],
   "source": [
    "#finding the smallest positive number in the list\n",
    "l=[5,7,-1,-3,0,3,-5,1]\n",
    "min=999\n",
    "for i in l:\n",
    "    if i>0 and min>i:\n",
    "        min=i\n",
    "if i==999:\n",
    "    print(0)\n",
    "else:\n",
    "    print(i)"
   ]
  },
  {
   "cell_type": "code",
   "execution_count": 27,
   "id": "8127a7d0-cc40-4ae9-a2cf-51b09fef9f28",
   "metadata": {},
   "outputs": [
    {
     "name": "stdout",
     "output_type": "stream",
     "text": [
      "0\n"
     ]
    }
   ],
   "source": [
    "#finding the smallest positive number in the list\n",
    "l=[-5,-7,-1,-3,0,-3,-5,-1]\n",
    "m= float('inf')\n",
    "for i in l:\n",
    "    if i>0 and i<m:\n",
    "        m=i\n",
    "\n",
    "if  float('inf'):\n",
    "    print(0)\n",
    "else:\n",
    "    print(i)"
   ]
  },
  {
   "cell_type": "code",
   "execution_count": null,
   "id": "382f3030-c1ec-4a1c-96bb-f48f7dade753",
   "metadata": {},
   "outputs": [],
   "source": [
    "l=[4,-1,-3,6,-2,1,3,2,-8,-2]\n",
    "for i in  `"
   ]
  },
  {
   "cell_type": "markdown",
   "id": "48c5ad76-db3b-43da-af80-890f712b022b",
   "metadata": {},
   "source": [
    "### kadens algorithm"
   ]
  },
  {
   "cell_type": "code",
   "execution_count": 31,
   "id": "359b4c04-57dc-40b5-aa43-e2bacb478e5c",
   "metadata": {},
   "outputs": [
    {
     "name": "stdout",
     "output_type": "stream",
     "text": [
      "6\n"
     ]
    },
    {
     "data": {
      "text/plain": [
       "(10, [6, -2, 1, 3, 2])"
      ]
     },
     "execution_count": 31,
     "metadata": {},
     "output_type": "execute_result"
    }
   ],
   "source": [
    "\n",
    "def kadens(l):\n",
    "    cs=l[0]\n",
    "    ms=l[0]\n",
    "    start,end,s=0,0,0\n",
    "    for i in l[1:]:\n",
    "        if cs+i >i:\n",
    "            cs+=i\n",
    "        else:\n",
    "            print(i)\n",
    "            cs=i\n",
    "            s=l.index(i)\n",
    "\n",
    "        if cs>ms:\n",
    "            ms=cs\n",
    "            start=s\n",
    "            end=l.index(i)\n",
    "    return ms,l[start:end+1]\n",
    "\n",
    "l=[4,-1,-3,6,-2,1,3,2,-8,-2]\n",
    "kadens(l)"
   ]
  },
  {
   "cell_type": "code",
   "execution_count": 22,
   "id": "8a1c1346-d742-4a2b-b521-a03d53135afe",
   "metadata": {},
   "outputs": [
    {
     "data": {
      "text/plain": [
       "10"
      ]
     },
     "execution_count": 22,
     "metadata": {},
     "output_type": "execute_result"
    }
   ],
   "source": [
    "#powered by the chat GPT\n",
    "def kadane_algorithm(arr):\n",
    "    if not arr:\n",
    "        return 0\n",
    "\n",
    "    max_current = max_global = arr[0]\n",
    "\n",
    "    for num in arr[1:]:\n",
    "        max_current = max(num, max_current + num)\n",
    "        max_global = max(max_global, max_current)\n",
    "\n",
    "    return max_global\n",
    "arr=[4,-1,-3,6,-2,1,3,2,-8,-2]\n",
    "kadane_algorithm(arr)"
   ]
  },
  {
   "cell_type": "code",
   "execution_count": 1,
   "id": "b14d6d29-e9b0-4c7e-98df-4f717d168aab",
   "metadata": {},
   "outputs": [
    {
     "name": "stdout",
     "output_type": "stream",
     "text": [
      "Maximum sum of contiguous subarray: 6\n",
      "Contiguous subarray with maximum sum: [4, -1, 2, 1]\n"
     ]
    }
   ],
   "source": [
    "def kadane(l):\n",
    "    if not l:\n",
    "        return 0  # Return 0 if the list is empty\n",
    "\n",
    "    cs = l[0]  # Current sum starts with the first element\n",
    "    ms = l[0]  # Max sum also starts with the first element\n",
    "    start = end = s = 0\n",
    "\n",
    "    for i in range(1, len(l)):\n",
    "        if cs + l[i] > l[i]:\n",
    "            cs += l[i]\n",
    "        else:\n",
    "            cs = l[i]\n",
    "            s = i\n",
    "        \n",
    "        if cs > ms:\n",
    "            ms = cs\n",
    "            start = s\n",
    "            end = i\n",
    "\n",
    "    # Return the maximum sum and the subarray itself\n",
    "    return ms, l[start:end+1]\n",
    "\n",
    "# Example usage\n",
    "l = [-2,1,-3,4,-1,2,1,-5,4]\n",
    "max_sum, subarray = kadane(l)\n",
    "print(\"Maximum sum of contiguous subarray:\", max_sum)\n",
    "print(\"Contiguous subarray with maximum sum:\", subarray)\n"
   ]
  },
  {
   "cell_type": "code",
   "execution_count": null,
   "id": "3a2abbf3-2140-442b-a861-903f23814eb7",
   "metadata": {},
   "outputs": [],
   "source": []
  }
 ],
 "metadata": {
  "kernelspec": {
   "display_name": "Python 3 (ipykernel)",
   "language": "python",
   "name": "python3"
  },
  "language_info": {
   "codemirror_mode": {
    "name": "ipython",
    "version": 3
   },
   "file_extension": ".py",
   "mimetype": "text/x-python",
   "name": "python",
   "nbconvert_exporter": "python",
   "pygments_lexer": "ipython3",
   "version": "3.12.1"
  }
 },
 "nbformat": 4,
 "nbformat_minor": 5
}
