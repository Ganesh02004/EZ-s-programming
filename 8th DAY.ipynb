{
 "cells": [
  {
   "cell_type": "markdown",
   "id": "46286649-4069-408d-87dc-4b3b40bccf91",
   "metadata": {},
   "source": [
    "###  Graphs"
   ]
  },
  {
   "cell_type": "code",
   "execution_count": 8,
   "id": "a0a45927-ff80-4460-aec9-6161ba8b75e0",
   "metadata": {},
   "outputs": [
    {
     "name": "stdout",
     "output_type": "stream",
     "text": [
      "18\n",
      "[1, 2, 3, 4, 5, 6, 7, 8]\n"
     ]
    }
   ],
   "source": [
    "l=[(1,2,0),(1,3,0),(2,1,0),(2,7,0),(3,1,0,),(3,6,0),(3,5,0),(4,7,0),(4,8,0),(5,3,0),(5,7,0),(6,3,0),(6,8,0),(7,2,0),(7,4,0),(7,5,0),(8,4,0),(8,6,0)]\n",
    "print(len(l))\n",
    "n=[]\n",
    "for i in l:\n",
    "        if i[0] not in n:\n",
    "            n.append(i[0])\n",
    "print(n)"
   ]
  },
  {
   "cell_type": "code",
   "execution_count": 9,
   "id": "daf6ed05-a497-479b-b775-a6164948be5b",
   "metadata": {},
   "outputs": [
    {
     "name": "stdout",
     "output_type": "stream",
     "text": [
      "{1: [(1, 2, 0), (1, 3, 0)], 2: [(2, 1, 0), (2, 7, 0)], 3: [(3, 1, 0), (3, 6, 0), (3, 5, 0)], 4: [(4, 7, 0), (4, 8, 0)], 5: [(5, 3, 0), (5, 7, 0)], 6: [(6, 3, 0), (6, 8, 0)], 7: [(7, 2, 0), (7, 4, 0), (7, 5, 0)], 8: [(8, 4, 0), (8, 6, 0)]}\n"
     ]
    }
   ],
   "source": [
    "dic={}\n",
    "for i in n:\n",
    "    temp=[]\n",
    "    for j in l:\n",
    "        if i==j[0]:\n",
    "            temp.append(j)\n",
    "        dic[i]=temp\n",
    "print(dic)\n",
    "    "
   ]
  },
  {
   "cell_type": "code",
   "execution_count": 10,
   "id": "40ecb437-4eec-4e5e-864d-b323f941e187",
   "metadata": {},
   "outputs": [
    {
     "name": "stdin",
     "output_type": "stream",
     "text": [
      "enter the source node 1\n"
     ]
    },
    {
     "name": "stdout",
     "output_type": "stream",
     "text": [
      "5 3 6 8 4 7 2 1 "
     ]
    }
   ],
   "source": [
    "#variable to consider\n",
    "#visisted ,stack,and started,element\n",
    "\n",
    "\n",
    "def dfs(dic,visisted,s,e):\n",
    "    if visited[e]==False:\n",
    "        s.append(e)\n",
    "        visited[e]=True\n",
    "    else:\n",
    "        return\n",
    "    for i in dic[e]:\n",
    "        dfs(dic,visisted,s,i[1])\n",
    "    print(s.pop(),end=' ')\n",
    "visited={}\n",
    "s=[]\n",
    "for i in n:\n",
    "    visited[i]=False\n",
    "k=int(input(\"enter the source node\"))\n",
    "dfs(dic,visited,s,k)"
   ]
  },
  {
   "cell_type": "code",
   "execution_count": 6,
   "id": "70958fdb-c67f-4934-b990-8640b5e0dd33",
   "metadata": {},
   "outputs": [
    {
     "name": "stdout",
     "output_type": "stream",
     "text": [
      "[1, 2, 3, 4, 5, 6, 7, 8, 9, 10, 11, 12, 13]\n"
     ]
    },
    {
     "name": "stdin",
     "output_type": "stream",
     "text": [
      "enter the node to traverse:  1\n"
     ]
    },
    {
     "name": "stdout",
     "output_type": "stream",
     "text": [
      "4\n",
      "3\n",
      "6\n",
      "8\n",
      "13\n",
      "12\n",
      "9\n",
      "7\n",
      "11\n",
      "10\n",
      "5\n",
      "2\n",
      "1\n"
     ]
    }
   ],
   "source": [
    "# dfs\n",
    "l1= [(1, 2, 0),(1, 3, 0),(2, 1, 0),(2, 5, 0),(3, 4, 0),(3, 6, 0),(4, 3, 0),\n",
    " (5, 2, 0),(5, 7, 0),(5, 10, 0),(5, 13, 0),(6, 3, 0),(6, 7, 0),(7, 5, 0),\n",
    " (7, 6, 0),(7, 8, 0),(7, 9, 0),(8, 7, 0),(9, 7, 0),(9, 12, 0),(10, 5, 0),\n",
    " (10, 11, 0),(11, 10, 0),(12, 9, 0),(12, 13, 0),(13, 5, 0),(13, 12, 0)]\n",
    "\n",
    "node=[]\n",
    "for i in l1: \n",
    "    if i[0] not in  node:\n",
    "        node.append(i[0])\n",
    "print(node)\n",
    "\n",
    "\n",
    "l= {1: [(1, 2, 0), (1, 3, 0)], 2: [(2, 1, 0), (2, 5, 0)], 3: [(3, 4, 0), \n",
    "        (3, 6, 0)], 4: [(4, 3, 0)], 5: [(5, 2, 0), (5, 7, 0), (5, 10, 0),\n",
    "        (5, 13, 0)], 6: [(6, 3, 0), (6, 7, 0)], 7: [(7, 5, 0), (7, 6, 0), \n",
    "        (7, 8, 0), (7, 9, 0)], 8: [(8, 7, 0)], 9: [(9, 7, 0), (9, 12, 0)], \n",
    "        10: [(10, 5, 0), (10, 11, 0)], 11: [(11, 10, 0)], 12: [(12, 9, 0), \n",
    "        (12, 13, 0)], 13: [(13, 5, 0), (13, 12, 0)]}\n",
    "\n",
    "\n",
    "def dfs(l,v,s,e):\n",
    "    if v[e]==False:\n",
    "        s.append(e)\n",
    "        v[e]=True\n",
    "    else:\n",
    "        return\n",
    "    for i in l[e]:\n",
    "        dfs(l,v,s,i[1])\n",
    "    print(s.pop())\n",
    "    \n",
    "if __name__ == \"__main__\":\n",
    "    v={}\n",
    "    for i in node:\n",
    "        v[i]=False\n",
    "    n= int(input('enter the node to traverse: '))\n",
    "    s=[]\n",
    "    dfs(l,v,s,n)"
   ]
  },
  {
   "cell_type": "code",
   "execution_count": 11,
   "id": "c9d83326-9ce8-48f3-a62c-3d97907491d5",
   "metadata": {},
   "outputs": [
    {
     "name": "stdout",
     "output_type": "stream",
     "text": [
      "before [1]\n",
      "after [2, 9, 10]\n",
      "before [2, 9, 10]\n",
      "after [9, 10, 3, 4]\n",
      "before [9, 10, 3, 4]\n",
      "after [10, 3, 4]\n",
      "before [10, 3, 4]\n",
      "after [3, 4]\n",
      "before [3, 4]\n",
      "after [4]\n",
      "before [4]\n",
      "after [5, 6, 7]\n",
      "before [5, 6, 7]\n",
      "after [6, 7, 8]\n",
      "before [6, 7, 8]\n",
      "after [7, 8]\n",
      "before [7, 8]\n",
      "after [8]\n",
      "before [8]\n",
      "after []\n",
      "[1, 2, 9, 10, 3, 4, 5, 6, 7, 8]\n"
     ]
    }
   ],
   "source": [
    "tree = { \n",
    "    1: [2, 9, 10],\n",
    "    2: [3, 4],\n",
    "    3: [],\n",
    "    4: [5, 6, 7],\n",
    "    5: [8],\n",
    "    6: [],\n",
    "    7: [],\n",
    "    8: [],\n",
    "    9: [],\n",
    "    10: []\n",
    "}\n",
    "\n",
    "def Bfs(tree, start):\n",
    "    q = [start]\n",
    "    visited = []\n",
    "    \n",
    "    while q:\n",
    "        print(\"before\", q)\n",
    "        node = q.pop(0)\n",
    "        visited.append(node)\n",
    "        \n",
    "        for child in tree[node]:\n",
    "            if child not in visited and child not in q:\n",
    "                q.append(child)\n",
    "                \n",
    "        print(\"after\", q)\n",
    "    \n",
    "    return visited\n",
    "\n",
    "result = Bfs(tree, 1)\n",
    "print(result)\n"
   ]
  },
  {
   "cell_type": "code",
   "execution_count": 2,
   "id": "3257bed9-bb74-4b7f-baf3-843b97c6d40f",
   "metadata": {},
   "outputs": [],
   "source": []
  },
  {
   "cell_type": "code",
   "execution_count": 5,
   "id": "002a5e79-ec25-4722-942f-a82f341d3a2b",
   "metadata": {},
   "outputs": [
    {
     "name": "stdout",
     "output_type": "stream",
     "text": [
      "2 3 4 5 6 7 8 9 "
     ]
    }
   ],
   "source": [
    "l=[4,6,7,3,8,2,5,9]\n",
    "class Node:\n",
    "     def __init__(self,data):\n",
    "         self.value=data\n",
    "         self.right=None\n",
    "         self.left=None\n",
    "\n",
    "def insertbst(root,i):\n",
    "    if root==None:\n",
    "        root=Node(i)\n",
    "        return root\n",
    "    if root.value>i:\n",
    "        root.left=insertbst(root.left,i)\n",
    "    else:\n",
    "        root.right=insertbst(root.right,i)\n",
    "    return root\n",
    "\n",
    "def inorder(root):\n",
    "    if root==None:\n",
    "        return\n",
    "    inorder(root.left)\n",
    "    print(root.value,end=' ')\n",
    "    inorder(root.right)\n",
    "\n",
    "root=Node(l[0])\n",
    "\n",
    "for i in l[1:]:\n",
    "    node=insertbst(root,i)\n",
    "inorder(node)"
   ]
  },
  {
   "cell_type": "code",
   "execution_count": null,
   "id": "b9b0dace-9f5e-4021-9658-3341d61b2ec6",
   "metadata": {},
   "outputs": [],
   "source": []
  }
 ],
 "metadata": {
  "kernelspec": {
   "display_name": "Python 3 (ipykernel)",
   "language": "python",
   "name": "python3"
  },
  "language_info": {
   "codemirror_mode": {
    "name": "ipython",
    "version": 3
   },
   "file_extension": ".py",
   "mimetype": "text/x-python",
   "name": "python",
   "nbconvert_exporter": "python",
   "pygments_lexer": "ipython3",
   "version": "3.12.1"
  }
 },
 "nbformat": 4,
 "nbformat_minor": 5
}
